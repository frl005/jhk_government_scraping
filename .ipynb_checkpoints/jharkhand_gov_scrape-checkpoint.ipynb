{
 "cells": [
  {
   "cell_type": "code",
   "execution_count": 1,
   "metadata": {
    "collapsed": false
   },
   "outputs": [],
   "source": [
    "import requests\n",
    "#!conda install -y bs4\n",
    "#!pip install -y bs4\n",
    "from bs4 import BeautifulSoup\n",
    "import pandas as pd"
   ]
  },
  {
   "cell_type": "code",
   "execution_count": 2,
   "metadata": {
    "collapsed": false,
    "scrolled": true
   },
   "outputs": [],
   "source": [
    "# the below gives pandas the ability to grab a html table\n",
    "#!conda install -y html5lib"
   ]
  },
  {
   "cell_type": "code",
   "execution_count": 3,
   "metadata": {
    "collapsed": false
   },
   "outputs": [],
   "source": [
    "def get_dist_ids():\n",
    "    \"\"\"REturns the district IDs from the site.\"\"\"\n",
    "    dist_url = 'http://aahar.jharkhand.gov.in/transactions/transactionView'\n",
    "    rids = requests.get(dist_url)\n",
    "    content = rids.text\n",
    "    soup = BeautifulSoup(content, \"html.parser\")\n",
    "    dist_ids = [(option['value'],option.text) for option in soup.find_all('option', value=True)[1:-2]]\n",
    "    return dist_ids"
   ]
  },
  {
   "cell_type": "code",
   "execution_count": 8,
   "metadata": {
    "collapsed": false
   },
   "outputs": [
    {
     "name": "stdout",
     "output_type": "stream",
     "text": [
      "[('355', 'BOKARO'), ('347', 'CHATRA'), ('350', 'DEOGHAR'), ('354', 'DHANBAD'), ('362', 'DUMKA'), ('357', 'EAST SINGHBUM'), ('346', 'GARHWA'), ('349', 'GIRIDIH'), ('351', 'GODDA'), ('366', 'GUMLA'), ('360', 'HAZARIBAGH'), ('363', 'JAMTARA'), ('348', 'KODERMA'), ('359', 'LATEHAR'), ('356', 'LOHARDAGA'), ('353', 'PAKUR'), ('358', 'PALAMU'), ('364', 'RANCHI'), ('352', 'SAHEBGANJ'), ('369', 'SARAIKELA KHARSAWAN'), ('367', 'SIMDEGA'), ('368', 'WEST SINGHBHUM'), ('365', 'KHUNTI'), ('361', 'RAMGARH')]\n"
     ]
    }
   ],
   "source": [
    "print(get_dist_ids())"
   ]
  },
  {
   "cell_type": "code",
   "execution_count": 9,
   "metadata": {
    "collapsed": false
   },
   "outputs": [
    {
     "name": "stdout",
     "output_type": "stream",
     "text": [
      "[('02590', 'BERMO'), ('02596', 'CHANDANKIYARI'), ('02589', 'CHANDRAPURA'), ('02595', 'CHAS'), ('02591', 'GOMIA'), ('02594', 'JARIDIH'), ('02593', 'KASMAR'), ('02588', 'NAWADIH'), ('02592', 'PETERWAR'), ('801778', 'CHAS NAGAR PALIKA(MN)'), ('801777', 'Phusro (NA)'), ('362723', 'Bokaro Steel City(TA)')]\n"
     ]
    }
   ],
   "source": [
    "print(get_block_ids(355))"
   ]
  },
  {
   "cell_type": "code",
   "execution_count": 5,
   "metadata": {
    "collapsed": false
   },
   "outputs": [],
   "source": [
    "def get_block_ids(d_id):\n",
    "    \"\"\"Returns a list of block ids.\"\"\"\n",
    "    block_muni = 'http://aahar.jharkhand.gov.in/transactions/getBlockMunicipality'\n",
    "    dist_post = {'data[Transaction][rgi_district_code]':d_id}\n",
    "    r = requests.post(block_muni, data=dist_post)\n",
    "    content = r.text\n",
    "    soup = BeautifulSoup(content, \"html.parser\")\n",
    "    block_ids = [(option['value'],option.text) for option in soup.find_all('option', value=True)[1:]]\n",
    "    #print(block_ids)\n",
    "    return block_ids"
   ]
  },
  {
   "cell_type": "markdown",
   "metadata": {},
   "source": [
    "Next step is to iterate over the dictionary keys/value in block_ids and since the value is a list of tuple pairs, we can pull those out by an inter-loop that iterates over the municipal ids. "
   ]
  },
  {
   "cell_type": "code",
   "execution_count": 10,
   "metadata": {
    "collapsed": false
   },
   "outputs": [],
   "source": [
    "def get_dealer_ids(block_ids):\n",
    "    \"\"\"Returns a list of tuples of dealer ids.\"\"\"\n",
    "    durl='http://aahar.jharkhand.gov.in/transactions/getDealers'\n",
    "    dealers = []\n",
    "    for id,name in block_ids:\n",
    "        dealer_post = {'data[Transaction][rgi_block_code]': id}\n",
    "    return dealers  \n",
    "    "
   ]
  },
  {
   "cell_type": "code",
   "execution_count": 11,
   "metadata": {
    "collapsed": false
   },
   "outputs": [],
   "source": [
    "def get_transactions(post):\n",
    "    \"\"\"Returns transactions.\"\"\"\n",
    "    for key, value in block_ids.items():\n",
    "        for block in value:\n",
    "            block_post = {'data[DealerUserLog][district_id]':key,\n",
    "                          'data[DealerUserLog][block_city_id]': block[0],\n",
    "                          'data[DealerUserLog][stockdatefrom]':'27-10-2016' }\n",
    "            print(block_post)\n",
    "            print(key, block[0], block[1])\n",
    "        "
   ]
  },
  {
   "cell_type": "code",
   "execution_count": 92,
   "metadata": {
    "collapsed": false
   },
   "outputs": [],
   "source": [
    "payload = {'data[Transaction][rgi_district_code]': '362', \n",
    "           'data[Transaction][rgi_district_code]': '02670', \n",
    "           'data[Transaction][dealer_id]': '4f2fa585-a4e4-422a-aa17-16800a867104',\n",
    "           'data[Transaction][stockdatefrom]': '7-11-2016',\n",
    "           'data[Transaction][stockdateto]': '11-11-2016'}\n",
    "\n",
    "r = requests.post('http://aahar.jharkhand.gov.in/transactions/transactionView', data=payload)\n",
    "data = r.text"
   ]
  },
  {
   "cell_type": "code",
   "execution_count": 94,
   "metadata": {
    "collapsed": false
   },
   "outputs": [
    {
     "data": {
      "text/plain": [
       "'<!DOCTYPE html PUBLIC \"-//W3C//DTD XHTML 1.0 Transitional//EN\" \"http://www.w3.org/TR/xhtml1/DTD/xhtml1-transitional.dtd\">\\r\\n<html xmlns=\"http://www.w3.org/1999/xhtml\">\\r\\n\\t<head>\\r\\n\\r\\n    <meta http-equiv=\"Content-Type\" content=\"text/html; charset=UTF-8\"/>\\r\\n<meta name=\"viewport\" content=\"width=device-width, initial-scale=1.0, maximum-scale=1.0, user-scalable=no\">\\r\\n<meta name=\"apple-mobile-web-app-capable\" content=\"yes\">\\r\\n    <meta http-equiv=\"X-UA-Compatible\" content=\"IE=edge\"/>\\r\\n\\t<meta name=\"viewport\" content=\"width=320\"/>\\r\\n\\r\\n     <script type=\"text/javascript\" src=\"/js/prototype.js.pagespeed.jm.dVJrnHUhUN.js\"></script><script type=\"text/javascript\">//<![CDATA[\\n$(document).ready(function(){$(\\'#cssmenu\\').prepend(\\'<div id=\"indicatorContainer\"><div id=\"pIndicator\"><div id=\"cIndicator\"></div></div></div>\\');var activeElement=$(\\'#cssmenu>ul>li:first\\');$(\\'#cssmenu>ul>li\\').each(function(){if($(this).hasClass(\\'active\\')){activeElement=$(this);}});var posLeft=activeElement.position().left;var elementWidth=activeElement.width();posLeft=posLeft+elementWidth/2-6;if(activeElement.hasClass(\\'has-sub\\')){posLeft-=6;}\\n$(\\'#cssmenu #pIndicator\\').css(\\'left\\',posLeft);var element,leftPos,indicator=$(\\'#cssmenu pIndicator\\');$(\"#cssmenu>ul>li\").hover(function(){element=$(this);var w=element.width();if($(this).hasClass(\\'has-sub\\'))\\n{leftPos=element.position().left+w/2-12;}\\nelse{leftPos=element.position().left+w/2-6;}\\n$(\\'#cssmenu #pIndicator\\').css(\\'left\\',leftPos);},function(){$(\\'#cssmenu #pIndicator\\').css(\\'left\\',posLeft);});$(\\'#cssmenu>ul>.has-sub>ul\\').append(\\'<div class=\"submenuArrow\"></div>\\');$(\\'#cssmenu>ul\\').children(\\'.has-sub\\').each(function(){var posLeftArrow=$(this).width();posLeftArrow/=2;posLeftArrow-=12;$(this).find(\\'.submenuArrow\\').css(\\'left\\',posLeftArrow);});$(\\'#cssmenu>ul\\').prepend(\\'<li id=\"menu-button\"><a>Menu</a></li>\\');$(\"#menu-button\").click(function(){if($(this).parent().hasClass(\\'open\\')){$(this).parent().removeClass(\\'open\\');}\\nelse{$(this).parent().addClass(\\'open\\');}});});\\n//]]></script>    <link href=\"./img/icon.ico\" type=\"image/ico\" rel=\"icon\"/>\\r\\n<!--     <title>OpenPDS - Welcome To UserManagement</title>  -->\\r\\n\\r\\n        \\r\\n\\t\\t\\t<meta http-equiv=\"Content-Type\" content=\"text/html; charset=utf-8\"/>\\t\\t<title>\\r\\n\\t\\t\\tJharkhand Government PDS System\\t\\t\\tTransactions</title>\\r\\n\\r\\n\\t<link rel=\"stylesheet\" type=\"text/css\" href=\"/css/footer.css+dashboard.css+bootstrap.min.css+bootstrap-responsive.min.css+font-awesome.css+style.css.pagespeed.cc.iiB9FriRCR.css\"/>\\t\\t\\t\\t\\t\\t<link rel=\"stylesheet\" type=\"text/css\" href=\"/css/grid.css\"/></head>\\r\\n<body bgcolor=\"#f8faff\">\\r\\n\\r\\n<div class=\"navbar-header\">\\r\\n    <!-------<div class=\"row\" style=\"position: absolute; left: 79px; top: 5px; z-index: 9595959;\">\\r\\n    <img src=\"/img/Seal_of_Jharkhand_2.png\" width=\"40%\"></div>---------->\\r\\n     <img src=\"/img/xhead4.jpg.pagespeed.ic.ioBk--WJe1.jpg\" width=\"100%\">\\r\\n<div> \\t<style>body{background-color:#f7efeb}#nav{width:100%;font-family:\\'Open Sans\\',sans-serif;font-weight:400;position:absolute;z-index:99999999;position:absolute}#nav>a{display:none}#nav li{position:relative;list-style-type:none}#nav li a{color:#dee65f;display:block;text-align:center}#nav li a:active{background-color:#c00!important}#nav span:after{width:0;height:0;border:.313em solid transparent;border-bottom:none;border-top-color:#efa585;content:\\'\\';vertical-align:middle;display:inline-block;position:relative;right:-.313em}#nav>ul{height:2.4em;background-color:#0a6a5f}#nav>ul>li{width:10%;float:left}#nav>ul>li>a{font-size:1.29em;line-height:26px;font-weight:bold;border-top:1px solid #90837e;padding:.00em;text-decoration:none}#nav > ul > li:not( :last-child ) > a\\n\\t\\t\\t\\t\\t\\t{border-right:1px solid #90837e;text-align:center}#nav > ul > li:hover > a,\\n\\t\\t\\t\\t\\t\\t#nav > ul:not( :hover ) > li.active > a\\n\\t\\t\\t\\t\\t\\t{background-color:#656477;color:#fff}#nav li ul{background-color:#656477;display:none;position:absolute;top:100%}#nav li:hover ul{display:block;left:0;right:0}#nav li:not( :first-child ):hover ul\\n\\t\\t\\t\\t\\t\\t{left:-1px}#nav li ul a{font-size:1.50em;border-top:1px solid #90837e;padding:.75em;text-decoration:none;font-weight:bold}#nav li ul li a:hover,\\n\\t\\t\\t\\t\\t\\t\\t#nav li ul:not( :hover ) li.active a\\n\\t\\t\\t\\t\\t\\t\\t{background-color:#656477;color:#fff}@media only screen and (max-width:62.5em ){#nav{width:100%;position:static;margin:0}}@media screen and (min-width:71em) and (max-width:100em){#nav>ul{font-size:12px;border-top:1px solid #e15a1f;padding:-1.25em;text-decoration:none}}@media only screen and (max-width:70em ){html{font-size:75%}#nav{position:relative;top:auto;left:auto}#nav>a{width:3.125em;height:3.125em;text-align:left;text-indent:-9999px;background-color:#e15a1f;position:relative}#nav>a:before,#nav>a:after{position:absolute;border:2px solid #fff;top:35%;left:25%;right:25%;content:\\'\\'}#nav>a:after{top:60%}#nav:not( :target ) > a:first-of-type,\\n\\t\\t\\t\\t#nav:target > a:last-of-type\\n\\t\\t\\t\\t{display:block}#nav>ul{height:auto;display:none;position:absolute;left:0;right:0}#nav:target>ul{display:block}#nav>ul>li{width:100%;float:none}#nav>ul>li>a{height:auto;text-align:left;padding:0 .833em}#nav > ul > li:not( :last-child ) > a\\n\\t\\t\\t\\t\\t\\t{border-right:none;border-bottom:1px solid #cc470d}#nav li ul{position:static;padding:1.25em;padding-top:0}}@media only screen and (max-width:100em ){#nav>ul li{font-size:.8em}}</style>\\n</head>\\n\\n<body>\\n\\n\\n\\n\\n<nav id=\"nav\" role=\"navigation\">\\n\\t<a href=\"#nav\" title=\"Show navigation\">Show navigation</a>\\n\\t<a href=\"#\" title=\"Hide navigation\">Hide navigation</a>\\n\\t<ul class=\"clearfix\">\\n  <li>\\n <a href=\"/\" class=\"\" target=\"_top\">HOME</a>     \\n                   </li>\\n                        \\n                        <li><a href=\"#\">CARDHOLDER &#9662;</a> \\n                        \\n                            <ul>\\n\\t                    <li> <a href=\"/secc_districts/districts\" class=\"\" target=\"_top\">Digitization</a></li>\\n\\t                    <li> <a href=\"/secc_cardholders/searchRation\" class=\"\" target=\"_top\">Rationcard Detail</a></li>\\n                        \\n\\t                    <li> <a href=\"/cardholder_transactions/searchTransaction\" class=\"\" target=\"_top\">Entitlement</a> </li>\\n                         </ul>\\n                         \\n                        </li>\\n                        \\n                        <li><a href=\"#\">TRANSACTION &#9662;</a>\\n                          <ul>\\n\\t   \\t\\t          <li><a href=\"/district_monthly_reports/\" class=\"\" target=\"_top\">Summary Report</a></li>\\n\\n\\t\\t\\t          <li><a href=\"/transactions/transactionView\" class=\"\" target=\"_top\">Datewise Report</a></li> \\n                         </ul>\\n                        </li>\\n                        \\n                        \\n                        \\n                        <li><a href=\"#\">DEALER &#9662;</a>\\n                            \\n                            <ul>\\n\\t   \\t<li><a href=\"/district_reports/districtDealer\" class=\"\" target=\"_top\">Dealer Summary</a></li>\\n\\n\\t   <li><a href=\"/district_allocations/dealerBankSlip\" class=\"\" target=\"_top\">Dealer&#039;s Bank Slip</a></li>\\n\\t <li><a href=\"/bank_payments/bankReport\" class=\"\" target=\"_top\">Bank Payment Report</a></li>\\n\\t <li><a href=\"/secc_cardholders/searchAllocationDealerWise\" class=\"\" target=\"_top\">Allocation Report</a></li>\\n        </ul>\\n                            \\n                        </li>\\n                        <li><a href=\"#\">HHT &#9662;</a>\\n                           \\n                           <ul>\\n\\t   \\t\\t\\t\\t<li><a href=\"/dealer_user_logs/hhdLogin\" class=\"\" target=\"_top\">HHT Login Details</a></li>\\n\\n\\t\\t\\t\\t<li><a href=\"/hhd_masters/\" class=\"\" target=\"_top\">HHT List</a></li>\\n                            </ul>\\n                        </li>\\n                        \\n                        \\n                        <li><a href=\"rentals.html\">POLICY &#9662;</a>\\n                        \\n                        <ul>\\n\\t   <li><a href=\"/policy_temps/searchPolicyFilter\" class=\"\" target=\"_top\">Policy Report</a></li>\\n        </ul>\\n\\n                        </li>\\n                        \\n                        <li><a href=\"#\">OFFICES &#9662;</a>\\n                       <ul>\\n\\t   \\t\\t<li><a href=\"/dso_masters/\" class=\"\" target=\"_top\">DSO</a></li>\\n\\t\\t\\t<li><a href=\"/sdo_masters/\" class=\"\" target=\"_top\">SDO</a></li>\\n\\t\\t\\t<li><a href=\"/depot_masters/depotStock\" class=\"\" target=\"_top\">Depot</a></li>\\n             </ul>\\n             </li>\\n               \\n                        \\n                        \\n                         <li><a href=\"http://jharkhandsamadhan.nic.in/\" target=\"_blank\">E-SAMADHAN</a>\\n                      \\n                        </li>\\n                        \\n                              \\n                      <li><a href=\"#\">RATION FORM &#9662;</a>\\n                    <ul>\\n\\t                <li>  <a href=\"/download/rural.pdf\"> Rural (Inclusion)</a> </li>\\n      \\n\\t               <li>  <a href=\"/download/urban.pdf\"> Urban (Inclusion)</a> </li>\\n                    </ul>\\n                    </li>\\n   \\n                    <li> \\n                    <a href=\"http://pds.jharkhand.gov.in\" target=\"_blank\" id=\"content\">   OFFICIAL LOGIN </a>\\n\\t\\t\\t\\t\\t</li>\\n              \\n                             \\n                  \\n                   </li>\\n\\t</ul>\\n</nav>\\n\\n<script>$(function()\\n{$(\\'#nav li:has(ul)\\').doubleTapToGo();});</script>\\n\\n\\n\\n\\n\\n\\n\\n\\n\\n\\n\\n\\n\\n\\n </div>\\r\\n\\r\\n<!-- /navbar -->\\r\\n<div class=\"main\" style=\"margin-top:5%\">\\r\\n<style>.errmsg{color:#710000;font-size:12px}</style>\\r\\n<script type=\"text/javascript\" src=\"/js/datetimepicker.js.pagespeed.jm.6zuri0r6fK.js\"></script>\\r\\n\\r\\n<script language=\"javascript\" type=\"text/javascript\">function validate(){var ok=true;if(document.getElementById(\\'TransactionDistrictId\\').value==\\'\\'){document.getElementById(\\'distt_msg\\').innerHTML=\\'select district\\';ok=false;}else{document.getElementById(\\'distt_msg\\').innerHTML=\\'\\';}\\nif(document.getElementById(\\'TransactionBlockCityId\\').value==\\'\\'){document.getElementById(\\'block_msg\\').innerHTML=\\'select block\\';ok=false;}else{document.getElementById(\\'block_msg\\').innerHTML=\\'\\';}\\nif(ok==false){}\\nreturn ok;}</script>\\r\\n\\r\\n\\r\\n<style>td{font-size:12px}a{color:#930}a:visited{color:#930}</style><br/>\\r\\n<div class=\"village index\" align=\"center\">\\r\\n<div>   \\r\\n<h1>\\r\\nTransaction Report\\r\\n</h1>\\r\\n<h8 align=\"right\"><font color=\"#9A2C22\"><img src=\"/img/xstar.gif.pagespeed.ic.LSYIrKMb44.png\" alt=\"\"/><b>Difference Between Both Date Should Not Be Greater Than Seven Days</b></font></h8>\\r\\n<br/>\\r\\n<h8 align=\"right\"><font color=\"#9A2C22\"><img src=\"/img/xstar.gif.pagespeed.ic.LSYIrKMb44.png\" alt=\"\"/><b>Only Last Three Months Transaction Data Can Be Searched</b></font></h8>\\r\\n\\r\\n        \\r\\n\\t\\t<form action=\"/transactions/transactionViewResult\" onSubmit=\"return validate();\" id=\"TransactionTransactionViewResultForm\" enctype=\"multipart/form-data\" method=\"post\" accept-charset=\"utf-8\"><div style=\"display:none;\"><input type=\"hidden\" name=\"_method\" value=\"POST\"/></div>\\r\\n\\t\\t<div class=\"grid\" align=\"center\">\\r\\n        <table cellpadding=\"2\" cellspacing=\"2\" width=\"\" border=\"0\" class=\"grid\">\\r\\n\\t\\t<!--<tr><td colspan=\"2\" align=\"right\"><font color=\"#9A2C22\"><img src=\"/pds/webroot/img/star.gif\" alt=\"\" />&nbsp;&nbsp;<b>Difference Between Both Date Should Not Be Greater Than Seven Days</b></font></td></tr>-->\\r\\n\\t\\t<tr>\\r\\n                <td colspan=\"4\">\\r\\n                <div style=\"width:100%;color:#AE0000; font-size:14px\">\\r\\n                                                         </div>\\r\\n                </td>\\r\\n\\r\\n        </tr>\\r\\n\\t\\t \\r\\n\\t\\t <tr>\\r\\n\\t\\t <td align=\"right\">Districts <font color=\"#FF0000\">*</font>:</td>\\r\\n\\t\\t <td colspan=\"2\" align=\"left\" valign=\"top\"><select name=\"data[Transaction][rgi_district_code]\" label=\"\" style=\"width:98%;\" id=\"TransactionRgiDistrictCode\">\\n<option value=\"\"></option>\\n<option value=\"355\">BOKARO</option>\\n<option value=\"347\">CHATRA</option>\\n<option value=\"350\">DEOGHAR</option>\\n<option value=\"354\">DHANBAD</option>\\n<option value=\"362\">DUMKA</option>\\n<option value=\"357\">EAST SINGHBUM</option>\\n<option value=\"346\">GARHWA</option>\\n<option value=\"349\">GIRIDIH</option>\\n<option value=\"351\">GODDA</option>\\n<option value=\"366\">GUMLA</option>\\n<option value=\"360\">HAZARIBAGH</option>\\n<option value=\"363\">JAMTARA</option>\\n<option value=\"348\">KODERMA</option>\\n<option value=\"359\">LATEHAR</option>\\n<option value=\"356\">LOHARDAGA</option>\\n<option value=\"353\">PAKUR</option>\\n<option value=\"358\">PALAMU</option>\\n<option value=\"364\">RANCHI</option>\\n<option value=\"352\">SAHEBGANJ</option>\\n<option value=\"369\">SARAIKELA KHARSAWAN</option>\\n<option value=\"367\">SIMDEGA</option>\\n<option value=\"368\">WEST SINGHBHUM</option>\\n<option value=\"365\">KHUNTI</option>\\n<option value=\"361\">RAMGARH</option>\\n</select><div id=\"distt_msg\" class=\"errmsg\"></div></td>\\r\\n\\t\\t </tr>\\r\\n\\t\\t  <tr>\\r\\n\\t\\t <td align=\"right\">Blocks/ Municipality<font color=\"#FF0000\">*</font>:</td>\\r\\n\\t\\t<td colspan=\"2\" align=\"left\" valign=\"top\"><select name=\"data[Transaction][rgi_block_code]\" label=\"\" style=\"width:98%;\" id=\"TransactionRgiBlockCode\">\\n<option value=\"\"></option>\\n</select><div id=\"block_msg\" class=\"errmsg\"></div></td>\\r\\n\\t\\t</tr> \\r\\n\\r\\n        <tr>\\r\\n\\t\\t <td align=\"right\">Dealer:</td>\\r\\n\\t\\t<td colspan=\"2\" align=\"left\" valign=\"top\"><select name=\"data[Transaction][dealer_id]\" label=\"\" id=\"TransactionDealerId\">\\n<option value=\"\"></option>\\n</select></td>\\r\\n\\t\\t</tr>\\r\\n\\r\\n\\t\\t<tr> \\r\\n\\t\\t<td align=\"right\">Date From<font color=\"#FF0000\">*</font>:</td><td align=\"left\" valign=\"top\"><div class=\"input text\"><label for=\"TransactionStockdatefrom\"></label><input name=\"data[Transaction][stockdatefrom]\" type=\"text\" style=\"width:72%;\" readonly=\"readonly\" value=\"12-11-2016\" id=\"TransactionStockdatefrom\"/></div></td><td><a href=\"javascript:NewCal(\\'TransactionStockdatefrom\\',\\'ddmmyyyy\\',false,24)\"><img src=\"/img/iconCalendar.gif\" alt=\"\"/></a></td>\\r\\n\\t\\t</tr>\\r\\n        <tr>\\t\\r\\n\\t\\t<td align=\"right\">Date To<font color=\"#FF0000\">*</font>:</td><td align=\"left\" valign=\"top\"><div class=\"input text\"><label for=\"TransactionStockdateto\"></label><input name=\"data[Transaction][stockdateto]\" type=\"text\" style=\"width:72%;\" readonly=\"readonly\" value=\"12-11-2016\" id=\"TransactionStockdateto\"/></div></td><td><a href=\"javascript:NewCal(\\'TransactionStockdateto\\',\\'ddmmyyyy\\',false,24)\"><img src=\"/img/iconCalendar.gif\" alt=\"\"/></a></td>\\r\\n\\t\\t </tr>\\r\\n\\t  <tr>\\r\\n\\t\\t<td colspan=\"3\" valign=\"top\" align=\"center\"><button type=\"submit\" class=\"button\">Search</button></td>\\r\\n\\t  </tr>\\r\\n    </table>\\r\\n\\t<br/><br/><br/>\\r\\n    </form>\\r\\n </div><br/>\\r\\n\\r\\n\\r\\n\\r\\n <script type=\"text/javascript\">//<![CDATA[\\nnew Form.Element.EventObserver(\\'TransactionRgiDistrictCode\\',function(element,value){new Ajax.Updater(\\'TransactionRgiBlockCode\\',\\'/transactions/getBlockMunicipality\\',{asynchronous:true,evalScripts:true,parameters:Form.Element.serialize(\\'TransactionRgiDistrictCode\\'),requestHeaders:[\\'X-Update\\',\\'TransactionRgiBlockCode\\']})})\\n//]]></script><script type=\"text/javascript\">//<![CDATA[\\nnew Form.Element.EventObserver(\\'TransactionRgiBlockCode\\',function(element,value){new Ajax.Updater(\\'TransactionDealerId\\',\\'/transactions/getDealers\\',{asynchronous:true,evalScripts:true,parameters:Form.Element.serialize(\\'TransactionRgiBlockCode\\'),requestHeaders:[\\'X-Update\\',\\'TransactionDealerId\\']})})\\n//]]></script>\\r\\n\\r\\n\\r\\n\\r\\n\\r\\n\\r\\n\\r\\n\\r\\n\\r\\n</div>\\r\\n</div>\\r\\n\\r\\n<!-- /main -->\\r\\n<div>  </div>\\r\\n<!-- /extra -->\\r\\n\\r\\n\\r\\n<div>  </div>\\r\\n        <!-- /span12 --> \\r\\n<div> <div class=\"extra\">\\n<div class=\"extra-inner\" style=\"background-color:#0a6a5f;color:#a0acbf; border-top-color:#dee65f; border-top-style:solid; border-top-width:1px;\">\\n\\n    <div class=\"container\">\\n      <div class=\"row\" align=\"center\">\\n                    <div style=\"width:100%; margin-top:1%;color:#dee65f; align:center\">\\n\\t\\t\\t\\t\\t<h4><b>Page last updated on :Friday, November 11, 2016 23:00:45</b></h4>\\n\\t  \\t\\t\\t\\t</div>\\n                    <div style=\"width:100%; align:center; color:#dee65f;\">\\n\\t\\t\\t\\t\\n\\t\\t\\t\\t\\t<center>\\n                            <h4><b>Design and Developed by</b> National Informatics Centre Jharkhand<br/>\\n                            <b>Best viewed in</b> Firefox 4.0 or higher  on 1280x1024 pixels screen resolution\\n\\t\\t\\t    <br/>\\nSite Owned by Department of Food, Public Distribution & Consumer Affairs, Government of Jharkhand.\\n<center><h4>HELPLINE NUMBER :- 18003456598</h4></center>\\n<!--<font color=\\'red\\' face=\\'Arial black\\'><b>Visitors Count</b><br />\\n</font> \\n-->\\n                            </h4>\\n                        </center>\\n\\t\\t\\t\\n\\t\\t\\t\\t\\t\\t\\t\\n                    </div>\\n                    <!-- /span3 -->\\n               </div>\\n      <!-- /row --> \\n    </div>\\n    <!-- /container --> \\n  </div>\\n\\t\\t\\t\\t\\t\\t\\t\\n</div>\\n </div>\\r\\n</body>\\r\\n</html>\\r\\n'"
      ]
     },
     "execution_count": 94,
     "metadata": {},
     "output_type": "execute_result"
    }
   ],
   "source": [
    "r.text"
   ]
  },
  {
   "cell_type": "code",
   "execution_count": 95,
   "metadata": {
    "collapsed": false
   },
   "outputs": [
    {
     "data": {
      "text/plain": [
       "<bound method Tag.prettify of <!DOCTYPE html PUBLIC \"-//W3C//DTD XHTML 1.0 Transitional//EN\" \"http://www.w3.org/TR/xhtml1/DTD/xhtml1-transitional.dtd\">\n",
       "\n",
       "<html xmlns=\"http://www.w3.org/1999/xhtml\">\n",
       "<head>\n",
       "<meta content=\"text/html; charset=utf-8\" http-equiv=\"Content-Type\"/>\n",
       "<meta content=\"width=device-width, initial-scale=1.0, maximum-scale=1.0, user-scalable=no\" name=\"viewport\">\n",
       "<meta content=\"yes\" name=\"apple-mobile-web-app-capable\">\n",
       "<meta content=\"IE=edge\" http-equiv=\"X-UA-Compatible\"/>\n",
       "<meta content=\"width=320\" name=\"viewport\"/>\n",
       "<script src=\"/js/prototype.js.pagespeed.jm.dVJrnHUhUN.js\" type=\"text/javascript\"></script><script type=\"text/javascript\">//<![CDATA[\n",
       "$(document).ready(function(){$('#cssmenu').prepend('<div id=\"indicatorContainer\"><div id=\"pIndicator\"><div id=\"cIndicator\"></div></div></div>');var activeElement=$('#cssmenu>ul>li:first');$('#cssmenu>ul>li').each(function(){if($(this).hasClass('active')){activeElement=$(this);}});var posLeft=activeElement.position().left;var elementWidth=activeElement.width();posLeft=posLeft+elementWidth/2-6;if(activeElement.hasClass('has-sub')){posLeft-=6;}\n",
       "$('#cssmenu #pIndicator').css('left',posLeft);var element,leftPos,indicator=$('#cssmenu pIndicator');$(\"#cssmenu>ul>li\").hover(function(){element=$(this);var w=element.width();if($(this).hasClass('has-sub'))\n",
       "{leftPos=element.position().left+w/2-12;}\n",
       "else{leftPos=element.position().left+w/2-6;}\n",
       "$('#cssmenu #pIndicator').css('left',leftPos);},function(){$('#cssmenu #pIndicator').css('left',posLeft);});$('#cssmenu>ul>.has-sub>ul').append('<div class=\"submenuArrow\"></div>');$('#cssmenu>ul').children('.has-sub').each(function(){var posLeftArrow=$(this).width();posLeftArrow/=2;posLeftArrow-=12;$(this).find('.submenuArrow').css('left',posLeftArrow);});$('#cssmenu>ul').prepend('<li id=\"menu-button\"><a>Menu</a></li>');$(\"#menu-button\").click(function(){if($(this).parent().hasClass('open')){$(this).parent().removeClass('open');}\n",
       "else{$(this).parent().addClass('open');}});});\n",
       "//]]></script> <link href=\"./img/icon.ico\" rel=\"icon\" type=\"image/ico\"/>\n",
       "<!--     <title>OpenPDS - Welcome To UserManagement</title>  -->\n",
       "<meta content=\"text/html; charset=utf-8\" http-equiv=\"Content-Type\"/> <title>\n",
       "\t\t\tJharkhand Government PDS System\t\t\tTransactions</title>\n",
       "<link href=\"/css/footer.css+dashboard.css+bootstrap.min.css+bootstrap-responsive.min.css+font-awesome.css+style.css.pagespeed.cc.iiB9FriRCR.css\" rel=\"stylesheet\" type=\"text/css\"/> <link href=\"/css/grid.css\" rel=\"stylesheet\" type=\"text/css\"/></meta></meta></head>\n",
       "<body bgcolor=\"#f8faff\">\n",
       "<div class=\"navbar-header\">\n",
       "<!-------<div class=\"row\" style=\"position: absolute; left: 79px; top: 5px; z-index: 9595959;\">\n",
       "    <img src=\"/img/Seal_of_Jharkhand_2.png\" width=\"40%\"></div>---------->\n",
       "<img src=\"/img/xhead4.jpg.pagespeed.ic.ioBk--WJe1.jpg\" width=\"100%\">\n",
       "<div> <style>body{background-color:#f7efeb}#nav{width:100%;font-family:'Open Sans',sans-serif;font-weight:400;position:absolute;z-index:99999999;position:absolute}#nav>a{display:none}#nav li{position:relative;list-style-type:none}#nav li a{color:#dee65f;display:block;text-align:center}#nav li a:active{background-color:#c00!important}#nav span:after{width:0;height:0;border:.313em solid transparent;border-bottom:none;border-top-color:#efa585;content:'';vertical-align:middle;display:inline-block;position:relative;right:-.313em}#nav>ul{height:2.4em;background-color:#0a6a5f}#nav>ul>li{width:10%;float:left}#nav>ul>li>a{font-size:1.29em;line-height:26px;font-weight:bold;border-top:1px solid #90837e;padding:.00em;text-decoration:none}#nav > ul > li:not( :last-child ) > a\n",
       "\t\t\t\t\t\t{border-right:1px solid #90837e;text-align:center}#nav > ul > li:hover > a,\n",
       "\t\t\t\t\t\t#nav > ul:not( :hover ) > li.active > a\n",
       "\t\t\t\t\t\t{background-color:#656477;color:#fff}#nav li ul{background-color:#656477;display:none;position:absolute;top:100%}#nav li:hover ul{display:block;left:0;right:0}#nav li:not( :first-child ):hover ul\n",
       "\t\t\t\t\t\t{left:-1px}#nav li ul a{font-size:1.50em;border-top:1px solid #90837e;padding:.75em;text-decoration:none;font-weight:bold}#nav li ul li a:hover,\n",
       "\t\t\t\t\t\t\t#nav li ul:not( :hover ) li.active a\n",
       "\t\t\t\t\t\t\t{background-color:#656477;color:#fff}@media only screen and (max-width:62.5em ){#nav{width:100%;position:static;margin:0}}@media screen and (min-width:71em) and (max-width:100em){#nav>ul{font-size:12px;border-top:1px solid #e15a1f;padding:-1.25em;text-decoration:none}}@media only screen and (max-width:70em ){html{font-size:75%}#nav{position:relative;top:auto;left:auto}#nav>a{width:3.125em;height:3.125em;text-align:left;text-indent:-9999px;background-color:#e15a1f;position:relative}#nav>a:before,#nav>a:after{position:absolute;border:2px solid #fff;top:35%;left:25%;right:25%;content:''}#nav>a:after{top:60%}#nav:not( :target ) > a:first-of-type,\n",
       "\t\t\t\t#nav:target > a:last-of-type\n",
       "\t\t\t\t{display:block}#nav>ul{height:auto;display:none;position:absolute;left:0;right:0}#nav:target>ul{display:block}#nav>ul>li{width:100%;float:none}#nav>ul>li>a{height:auto;text-align:left;padding:0 .833em}#nav > ul > li:not( :last-child ) > a\n",
       "\t\t\t\t\t\t{border-right:none;border-bottom:1px solid #cc470d}#nav li ul{position:static;padding:1.25em;padding-top:0}}@media only screen and (max-width:100em ){#nav>ul li{font-size:.8em}}</style>\n",
       "</div></img></div></body></html>\n",
       "<body>\n",
       "<nav id=\"nav\" role=\"navigation\">\n",
       "<a href=\"#nav\" title=\"Show navigation\">Show navigation</a>\n",
       "<a href=\"#\" title=\"Hide navigation\">Hide navigation</a>\n",
       "<ul class=\"clearfix\">\n",
       "<li>\n",
       "<a class=\"\" href=\"/\" target=\"_top\">HOME</a>\n",
       "</li>\n",
       "<li><a href=\"#\">CARDHOLDER ▾</a>\n",
       "<ul>\n",
       "<li> <a class=\"\" href=\"/secc_districts/districts\" target=\"_top\">Digitization</a></li>\n",
       "<li> <a class=\"\" href=\"/secc_cardholders/searchRation\" target=\"_top\">Rationcard Detail</a></li>\n",
       "<li> <a class=\"\" href=\"/cardholder_transactions/searchTransaction\" target=\"_top\">Entitlement</a> </li>\n",
       "</ul>\n",
       "</li>\n",
       "<li><a href=\"#\">TRANSACTION ▾</a>\n",
       "<ul>\n",
       "<li><a class=\"\" href=\"/district_monthly_reports/\" target=\"_top\">Summary Report</a></li>\n",
       "<li><a class=\"\" href=\"/transactions/transactionView\" target=\"_top\">Datewise Report</a></li>\n",
       "</ul>\n",
       "</li>\n",
       "<li><a href=\"#\">DEALER ▾</a>\n",
       "<ul>\n",
       "<li><a class=\"\" href=\"/district_reports/districtDealer\" target=\"_top\">Dealer Summary</a></li>\n",
       "<li><a class=\"\" href=\"/district_allocations/dealerBankSlip\" target=\"_top\">Dealer's Bank Slip</a></li>\n",
       "<li><a class=\"\" href=\"/bank_payments/bankReport\" target=\"_top\">Bank Payment Report</a></li>\n",
       "<li><a class=\"\" href=\"/secc_cardholders/searchAllocationDealerWise\" target=\"_top\">Allocation Report</a></li>\n",
       "</ul>\n",
       "</li>\n",
       "<li><a href=\"#\">HHT ▾</a>\n",
       "<ul>\n",
       "<li><a class=\"\" href=\"/dealer_user_logs/hhdLogin\" target=\"_top\">HHT Login Details</a></li>\n",
       "<li><a class=\"\" href=\"/hhd_masters/\" target=\"_top\">HHT List</a></li>\n",
       "</ul>\n",
       "</li>\n",
       "<li><a href=\"rentals.html\">POLICY ▾</a>\n",
       "<ul>\n",
       "<li><a class=\"\" href=\"/policy_temps/searchPolicyFilter\" target=\"_top\">Policy Report</a></li>\n",
       "</ul>\n",
       "</li>\n",
       "<li><a href=\"#\">OFFICES ▾</a>\n",
       "<ul>\n",
       "<li><a class=\"\" href=\"/dso_masters/\" target=\"_top\">DSO</a></li>\n",
       "<li><a class=\"\" href=\"/sdo_masters/\" target=\"_top\">SDO</a></li>\n",
       "<li><a class=\"\" href=\"/depot_masters/depotStock\" target=\"_top\">Depot</a></li>\n",
       "</ul>\n",
       "</li>\n",
       "<li><a href=\"http://jharkhandsamadhan.nic.in/\" target=\"_blank\">E-SAMADHAN</a>\n",
       "</li>\n",
       "<li><a href=\"#\">RATION FORM ▾</a>\n",
       "<ul>\n",
       "<li> <a href=\"/download/rural.pdf\"> Rural (Inclusion)</a> </li>\n",
       "<li> <a href=\"/download/urban.pdf\"> Urban (Inclusion)</a> </li>\n",
       "</ul>\n",
       "</li>\n",
       "<li>\n",
       "<a href=\"http://pds.jharkhand.gov.in\" id=\"content\" target=\"_blank\">   OFFICIAL LOGIN </a>\n",
       "</li>\n",
       "</ul></nav></body>\n",
       "\n",
       "\n",
       "<script>$(function()\n",
       "{$('#nav li:has(ul)').doubleTapToGo();});</script>\n",
       "\n",
       "<!-- /navbar -->\n",
       "<div class=\"main\" style=\"margin-top:5%\">\n",
       "<style>.errmsg{color:#710000;font-size:12px}</style>\n",
       "<script src=\"/js/datetimepicker.js.pagespeed.jm.6zuri0r6fK.js\" type=\"text/javascript\"></script>\n",
       "<script language=\"javascript\" type=\"text/javascript\">function validate(){var ok=true;if(document.getElementById('TransactionDistrictId').value==''){document.getElementById('distt_msg').innerHTML='select district';ok=false;}else{document.getElementById('distt_msg').innerHTML='';}\n",
       "if(document.getElementById('TransactionBlockCityId').value==''){document.getElementById('block_msg').innerHTML='select block';ok=false;}else{document.getElementById('block_msg').innerHTML='';}\n",
       "if(ok==false){}\n",
       "return ok;}</script>\n",
       "<style>td{font-size:12px}a{color:#930}a:visited{color:#930}</style><br/>\n",
       "<div align=\"center\" class=\"village index\">\n",
       "<div>\n",
       "<h1>\n",
       "Transaction Report\n",
       "</h1>\n",
       "<h8 align=\"right\"><font color=\"#9A2C22\"><img alt=\"\" src=\"/img/xstar.gif.pagespeed.ic.LSYIrKMb44.png\"/><b>Difference Between Both Date Should Not Be Greater Than Seven Days</b></font></h8>\n",
       "<br/>\n",
       "<h8 align=\"right\"><font color=\"#9A2C22\"><img alt=\"\" src=\"/img/xstar.gif.pagespeed.ic.LSYIrKMb44.png\"/><b>Only Last Three Months Transaction Data Can Be Searched</b></font></h8>\n",
       "<form accept-charset=\"utf-8\" action=\"/transactions/transactionViewResult\" enctype=\"multipart/form-data\" id=\"TransactionTransactionViewResultForm\" method=\"post\" onsubmit=\"return validate();\"><div style=\"display:none;\"><input name=\"_method\" type=\"hidden\" value=\"POST\"/></div>\n",
       "<div align=\"center\" class=\"grid\">\n",
       "<table border=\"0\" cellpadding=\"2\" cellspacing=\"2\" class=\"grid\" width=\"\">\n",
       "<!--<tr><td colspan=\"2\" align=\"right\"><font color=\"#9A2C22\"><img src=\"/pds/webroot/img/star.gif\" alt=\"\" />&nbsp;&nbsp;<b>Difference Between Both Date Should Not Be Greater Than Seven Days</b></font></td></tr>-->\n",
       "<tr>\n",
       "<td colspan=\"4\">\n",
       "<div style=\"width:100%;color:#AE0000; font-size:14px\">\n",
       "</div>\n",
       "</td>\n",
       "</tr>\n",
       "<tr>\n",
       "<td align=\"right\">Districts <font color=\"#FF0000\">*</font>:</td>\n",
       "<td align=\"left\" colspan=\"2\" valign=\"top\"><select id=\"TransactionRgiDistrictCode\" label=\"\" name=\"data[Transaction][rgi_district_code]\" style=\"width:98%;\">\n",
       "<option value=\"\"></option>\n",
       "<option value=\"355\">BOKARO</option>\n",
       "<option value=\"347\">CHATRA</option>\n",
       "<option value=\"350\">DEOGHAR</option>\n",
       "<option value=\"354\">DHANBAD</option>\n",
       "<option value=\"362\">DUMKA</option>\n",
       "<option value=\"357\">EAST SINGHBUM</option>\n",
       "<option value=\"346\">GARHWA</option>\n",
       "<option value=\"349\">GIRIDIH</option>\n",
       "<option value=\"351\">GODDA</option>\n",
       "<option value=\"366\">GUMLA</option>\n",
       "<option value=\"360\">HAZARIBAGH</option>\n",
       "<option value=\"363\">JAMTARA</option>\n",
       "<option value=\"348\">KODERMA</option>\n",
       "<option value=\"359\">LATEHAR</option>\n",
       "<option value=\"356\">LOHARDAGA</option>\n",
       "<option value=\"353\">PAKUR</option>\n",
       "<option value=\"358\">PALAMU</option>\n",
       "<option value=\"364\">RANCHI</option>\n",
       "<option value=\"352\">SAHEBGANJ</option>\n",
       "<option value=\"369\">SARAIKELA KHARSAWAN</option>\n",
       "<option value=\"367\">SIMDEGA</option>\n",
       "<option value=\"368\">WEST SINGHBHUM</option>\n",
       "<option value=\"365\">KHUNTI</option>\n",
       "<option value=\"361\">RAMGARH</option>\n",
       "</select><div class=\"errmsg\" id=\"distt_msg\"></div></td>\n",
       "</tr>\n",
       "<tr>\n",
       "<td align=\"right\">Blocks/ Municipality<font color=\"#FF0000\">*</font>:</td>\n",
       "<td align=\"left\" colspan=\"2\" valign=\"top\"><select id=\"TransactionRgiBlockCode\" label=\"\" name=\"data[Transaction][rgi_block_code]\" style=\"width:98%;\">\n",
       "<option value=\"\"></option>\n",
       "</select><div class=\"errmsg\" id=\"block_msg\"></div></td>\n",
       "</tr>\n",
       "<tr>\n",
       "<td align=\"right\">Dealer:</td>\n",
       "<td align=\"left\" colspan=\"2\" valign=\"top\"><select id=\"TransactionDealerId\" label=\"\" name=\"data[Transaction][dealer_id]\">\n",
       "<option value=\"\"></option>\n",
       "</select></td>\n",
       "</tr>\n",
       "<tr>\n",
       "<td align=\"right\">Date From<font color=\"#FF0000\">*</font>:</td><td align=\"left\" valign=\"top\"><div class=\"input text\"><label for=\"TransactionStockdatefrom\"></label><input id=\"TransactionStockdatefrom\" name=\"data[Transaction][stockdatefrom]\" readonly=\"readonly\" style=\"width:72%;\" type=\"text\" value=\"12-11-2016\"/></div></td><td><a href=\"javascript:NewCal('TransactionStockdatefrom','ddmmyyyy',false,24)\"><img alt=\"\" src=\"/img/iconCalendar.gif\"/></a></td>\n",
       "</tr>\n",
       "<tr>\n",
       "<td align=\"right\">Date To<font color=\"#FF0000\">*</font>:</td><td align=\"left\" valign=\"top\"><div class=\"input text\"><label for=\"TransactionStockdateto\"></label><input id=\"TransactionStockdateto\" name=\"data[Transaction][stockdateto]\" readonly=\"readonly\" style=\"width:72%;\" type=\"text\" value=\"12-11-2016\"/></div></td><td><a href=\"javascript:NewCal('TransactionStockdateto','ddmmyyyy',false,24)\"><img alt=\"\" src=\"/img/iconCalendar.gif\"/></a></td>\n",
       "</tr>\n",
       "<tr>\n",
       "<td align=\"center\" colspan=\"3\" valign=\"top\"><button class=\"button\" type=\"submit\">Search</button></td>\n",
       "</tr>\n",
       "</table>\n",
       "<br/><br/><br/>\n",
       "</div></form>\n",
       "</div><br/>\n",
       "<script type=\"text/javascript\">//<![CDATA[\n",
       "new Form.Element.EventObserver('TransactionRgiDistrictCode',function(element,value){new Ajax.Updater('TransactionRgiBlockCode','/transactions/getBlockMunicipality',{asynchronous:true,evalScripts:true,parameters:Form.Element.serialize('TransactionRgiDistrictCode'),requestHeaders:['X-Update','TransactionRgiBlockCode']})})\n",
       "//]]></script><script type=\"text/javascript\">//<![CDATA[\n",
       "new Form.Element.EventObserver('TransactionRgiBlockCode',function(element,value){new Ajax.Updater('TransactionDealerId','/transactions/getDealers',{asynchronous:true,evalScripts:true,parameters:Form.Element.serialize('TransactionRgiBlockCode'),requestHeaders:['X-Update','TransactionDealerId']})})\n",
       "//]]></script>\n",
       "</div>\n",
       "</div>\n",
       "<!-- /main -->\n",
       "<div> </div>\n",
       "<!-- /extra -->\n",
       "<div> </div>\n",
       "<!-- /span12 -->\n",
       "<div> <div class=\"extra\">\n",
       "<div class=\"extra-inner\" style=\"background-color:#0a6a5f;color:#a0acbf; border-top-color:#dee65f; border-top-style:solid; border-top-width:1px;\">\n",
       "<div class=\"container\">\n",
       "<div align=\"center\" class=\"row\">\n",
       "<div style=\"width:100%; margin-top:1%;color:#dee65f; align:center\">\n",
       "<h4><b>Page last updated on :Friday, November 11, 2016 23:00:45</b></h4>\n",
       "</div>\n",
       "<div style=\"width:100%; align:center; color:#dee65f;\">\n",
       "<center>\n",
       "<h4><b>Design and Developed by</b> National Informatics Centre Jharkhand<br/>\n",
       "<b>Best viewed in</b> Firefox 4.0 or higher  on 1280x1024 pixels screen resolution\n",
       "\t\t\t    <br/>\n",
       "Site Owned by Department of Food, Public Distribution &amp; Consumer Affairs, Government of Jharkhand.\n",
       "<center><h4>HELPLINE NUMBER :- 18003456598</h4></center>\n",
       "<!--<font color='red' face='Arial black'><b>Visitors Count</b><br />\n",
       "</font> \n",
       "-->\n",
       "</h4>\n",
       "</center>\n",
       "</div>\n",
       "<!-- /span3 -->\n",
       "</div>\n",
       "<!-- /row -->\n",
       "</div>\n",
       "<!-- /container -->\n",
       "</div>\n",
       "</div>\n",
       "</div>\n",
       "\n",
       "\n",
       ">"
      ]
     },
     "execution_count": 95,
     "metadata": {},
     "output_type": "execute_result"
    }
   ],
   "source": [
    "soup = BeautifulSoup(data, \"html.parser\")\n",
    "soup.prettify"
   ]
  },
  {
   "cell_type": "code",
   "execution_count": 63,
   "metadata": {
    "collapsed": false
   },
   "outputs": [
    {
     "name": "stdout",
     "output_type": "stream",
     "text": [
      "[('02590', 'BERMO'), ('02596', 'CHANDANKIYARI'), ('02589', 'CHANDRAPURA'), ('02595', 'CHAS'), ('02591', 'GOMIA'), ('02594', 'JARIDIH'), ('02593', 'KASMAR'), ('02588', 'NAWADIH'), ('02592', 'PETERWAR'), ('801778', 'CHAS NAGAR PALIKA(MN)'), ('801777', 'Phusro (NA)'), ('362723', 'Bokaro Steel City(TA)')]\n"
     ]
    }
   ],
   "source": [
    "for d_id, name in get_dist_ids():\n",
    "    bids = get_block_ids(d_id, name)\n",
    "    deal_ids = get_dealer_ids(bids)\n",
    "    print(bids)"
   ]
  }
 ],
 "metadata": {
  "kernelspec": {
   "display_name": "Python 3",
   "language": "python",
   "name": "python3"
  },
  "language_info": {
   "codemirror_mode": {
    "name": "ipython",
    "version": 3
   },
   "file_extension": ".py",
   "mimetype": "text/x-python",
   "name": "python",
   "nbconvert_exporter": "python",
   "pygments_lexer": "ipython3",
   "version": "3.5.1"
  }
 },
 "nbformat": 4,
 "nbformat_minor": 0
}
