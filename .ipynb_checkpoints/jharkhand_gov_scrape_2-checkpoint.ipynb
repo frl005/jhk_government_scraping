{
 "cells": [
  {
   "cell_type": "code",
   "execution_count": 70,
   "metadata": {
    "collapsed": false
   },
   "outputs": [
    {
     "name": "stdout",
     "output_type": "stream",
     "text": [
      "Requirement already satisfied (use --upgrade to upgrade): bs4 in /anaconda/lib/python2.7/site-packages\n",
      "Requirement already satisfied (use --upgrade to upgrade): beautifulsoup4 in /anaconda/lib/python2.7/site-packages (from bs4)\n",
      "\u001b[33mYou are using pip version 8.1.2, however version 9.0.1 is available.\n",
      "You should consider upgrading via the 'pip install --upgrade pip' command.\u001b[0m\n"
     ]
    }
   ],
   "source": [
    "import csv\n",
    "import requests\n",
    "import datetime\n",
    "#!conda install -y bs4\n",
    "!pip install bs4\n",
    "from bs4 import BeautifulSoup\n",
    "import pandas as pd\n",
    "# the below gives pandas the ability to grab a html table\n",
    "#!conda install -y html5lib"
   ]
  },
  {
   "cell_type": "code",
   "execution_count": 71,
   "metadata": {
    "collapsed": false
   },
   "outputs": [],
   "source": [
    "#def get_dist_ids():\n",
    "#   \"\"\"Returns the district IDs from the site.\"\"\"\n",
    "#   dist_url = 'http://aahar.jharkhand.gov.in/transactions/transactionView'\n",
    "#   rids = requests.get(dist_url)\n",
    "#  content = rids.text\n",
    "#   soup = BeautifulSoup(content, \"html.parser\")\n",
    "#  dist_ids = [(option['value'],option.text) for option in soup.find_all('option', value=True)[1:-2]]\n",
    "#   return dist_ids"
   ]
  },
  {
   "cell_type": "code",
   "execution_count": 72,
   "metadata": {
    "collapsed": false
   },
   "outputs": [
    {
     "name": "stdout",
     "output_type": "stream",
     "text": [
      "[(u'355', u'BOKARO'), (u'347', u'CHATRA'), (u'350', u'DEOGHAR'), (u'354', u'DHANBAD'), (u'362', u'DUMKA'), (u'357', u'EAST SINGHBUM'), (u'346', u'GARHWA'), (u'349', u'GIRIDIH'), (u'351', u'GODDA'), (u'366', u'GUMLA'), (u'360', u'HAZARIBAGH'), (u'363', u'JAMTARA'), (u'348', u'KODERMA'), (u'359', u'LATEHAR'), (u'356', u'LOHARDAGA'), (u'353', u'PAKUR'), (u'358', u'PALAMU'), (u'364', u'RANCHI'), (u'352', u'SAHEBGANJ'), (u'369', u'SARAIKELA KHARSAWAN'), (u'367', u'SIMDEGA'), (u'368', u'WEST SINGHBHUM'), (u'365', u'KHUNTI'), (u'361', u'RAMGARH')]\n"
     ]
    }
   ],
   "source": [
    "print(get_dist_ids())"
   ]
  },
  {
   "cell_type": "code",
   "execution_count": 73,
   "metadata": {
    "collapsed": false
   },
   "outputs": [],
   "source": [
    "def get_block_ids(d_id):\n",
    "    \"\"\"Returns a list of block ids.\"\"\"\n",
    "    block_muni = 'http://aahar.jharkhand.gov.in/dealer_user_logs/getBlockMunicipality'\n",
    "    dist_post = {'data[DealerUserLog][district_id]':d_id}\n",
    "    r = requests.post(block_muni, data=dist_post)\n",
    "    content = r.text\n",
    "    soup = BeautifulSoup(content, \"html.parser\")\n",
    "    block_ids = [(option['value'],option.text) for option in soup.find_all('option', value=True)[1:]]\n",
    "    #print(block_ids)\n",
    "    return block_ids"
   ]
  },
  {
   "cell_type": "code",
   "execution_count": 74,
   "metadata": {
    "collapsed": true
   },
   "outputs": [],
   "source": [
    "#Want data from 15-8-2016 to 30-11-2016\n",
    "def get_dates():\n",
    "    numdays = 109\n",
    "    base = datetime.date.today()\n",
    "    date_list = [(base - datetime.timedelta(days=x)).strftime(\"%d-%m-%Y\") for x in range(0, numdays)]\n",
    "    return(date_list)"
   ]
  },
  {
   "cell_type": "code",
   "execution_count": 75,
   "metadata": {
    "collapsed": false
   },
   "outputs": [],
   "source": [
    "def get_dealer_links(block_post):\n",
    "    r = requests.post(\"http://aahar.jharkhand.gov.in/dealer_user_logs/hhdLoginDetail\", data=block_post)\n",
    "    data = r.text\n",
    "    soup = BeautifulSoup(data, \"html.parser\")\n",
    "    main_table = soup.find('table', id='maintable')\n",
    "    #main_table.find_all('a')\n",
    "    tmp_link_list = main_table.find_all('a', href=True)\n",
    "    return(tmp_link_list)\n",
    "    \n"
   ]
  },
  {
   "cell_type": "code",
   "execution_count": 76,
   "metadata": {
    "collapsed": false
   },
   "outputs": [],
   "source": [
    "def get_transactions(dealer_link_list):\n",
    "    \"\"\"Returns transactions.\"\"\"\n",
    "\n",
    "\n"
   ]
  },
  {
   "cell_type": "code",
   "execution_count": 77,
   "metadata": {
    "collapsed": false
   },
   "outputs": [],
   "source": [
    "#payload = {'data[DealerUserLog][district_id]':'1', 'data[DealerUserLog][block_city_id]':'1',\n",
    " #          'data[DealerUserLog][stockdatefrom]': '17-10-2016'}"
   ]
  },
  {
   "cell_type": "code",
   "execution_count": 78,
   "metadata": {
    "collapsed": true
   },
   "outputs": [],
   "source": [
    "#r = requests.post(\"http://aahar.jharkhand.gov.in/dealer_user_logs/hhdLoginDetail\", data=payload)\n",
    "#data = r.text"
   ]
  },
  {
   "cell_type": "code",
   "execution_count": null,
   "metadata": {
    "collapsed": false
   },
   "outputs": [],
   "source": [
    "#data"
   ]
  },
  {
   "cell_type": "code",
   "execution_count": null,
   "metadata": {
    "collapsed": false
   },
   "outputs": [
    {
     "name": "stdout",
     "output_type": "stream",
     "text": [
      "[(u'1', u'BERMO'), (u'420', u'Bokaro Steel City(TA)'), (u'2', u'CHANDANKIYARI'), (u'3', u'CHANDRAPURA'), (u'4', u'CHAS'), (u'258', u'CHAS NAGAR PALIKA(MN)'), (u'5', u'GOMIA'), (u'6', u'JARIDIH'), (u'7', u'KASMAR'), (u'8', u'NAWADIH'), (u'9', u'PETERWAR'), (u'268', u'Phusro (NA)')]\n"
     ]
    }
   ],
   "source": [
    "#List for dealer links\n",
    "dealer_links_list = []\n",
    "dist_ids = list(range(1,25))\n",
    "#for d_id in dist_ids:\n",
    "for d_id in dist_ids:\n",
    "    b_ids = get_block_ids(d_id)\n",
    "    print(b_ids)\n",
    "    for key, value in b_ids:\n",
    "        date_list = get_dates()[0:10]\n",
    "        for dt in date_list: \n",
    "            block_post = {'data[DealerUserLog][district_id]':key,\n",
    "                      'data[DealerUserLog][block_city_id]': value,\n",
    "                      'data[DealerUserLog][stockdatefrom]': dt }\n",
    "            dealer_links_list.append(get_dealer_links(block_post))\n",
    "            #Append these links to list\n",
    "    #list of links\n",
    "    #need a function that makes requests and processes responses, then calls function to build csv \n",
    "            \n",
    "print(dealer_links_list)       \n",
    "    "
   ]
  },
  {
   "cell_type": "code",
   "execution_count": null,
   "metadata": {
    "collapsed": true
   },
   "outputs": [],
   "source": []
  }
 ],
 "metadata": {
  "anaconda-cloud": {},
  "kernelspec": {
   "display_name": "Python [default]",
   "language": "python",
   "name": "python2"
  },
  "language_info": {
   "codemirror_mode": {
    "name": "ipython",
    "version": 2
   },
   "file_extension": ".py",
   "mimetype": "text/x-python",
   "name": "python",
   "nbconvert_exporter": "python",
   "pygments_lexer": "ipython2",
   "version": "2.7.12"
  }
 },
 "nbformat": 4,
 "nbformat_minor": 0
}
