{
 "cells": [
  {
   "cell_type": "code",
   "execution_count": 31,
   "metadata": {
    "collapsed": false
   },
   "outputs": [
    {
     "name": "stdout",
     "output_type": "stream",
     "text": [
      "Requirement already satisfied (use --upgrade to upgrade): bs4 in /anaconda/lib/python2.7/site-packages\n",
      "Requirement already satisfied (use --upgrade to upgrade): beautifulsoup4 in /anaconda/lib/python2.7/site-packages (from bs4)\n",
      "\u001b[33mYou are using pip version 8.1.2, however version 9.0.1 is available.\n",
      "You should consider upgrading via the 'pip install --upgrade pip' command.\u001b[0m\n"
     ]
    }
   ],
   "source": [
    "import csv\n",
    "import requests\n",
    "import datetime\n",
    "#!conda install -y bs4\n",
    "!pip install bs4\n",
    "from bs4 import BeautifulSoup\n",
    "import pandas as pd\n",
    "# the below gives pandas the ability to grab a html table\n",
    "#!conda install -y html5lib"
   ]
  },
  {
   "cell_type": "code",
   "execution_count": 32,
   "metadata": {
    "collapsed": false
   },
   "outputs": [],
   "source": [
    "def get_dist_ids():\n",
    "    \"\"\"REturns the district IDs from the site.\"\"\"\n",
    "    dist_url = 'http://aahar.jharkhand.gov.in/transactions/transactionView'\n",
    "    rids = requests.get(dist_url)\n",
    "    content = rids.text\n",
    "    soup = BeautifulSoup(content, \"html.parser\")\n",
    "    dist_ids = [(option['value'],option.text) for option in soup.find_all('option', value=True)[1:-2]]\n",
    "    return dist_ids"
   ]
  },
  {
   "cell_type": "code",
   "execution_count": 33,
   "metadata": {
    "collapsed": false
   },
   "outputs": [],
   "source": [
    "def get_block_ids(d_id):\n",
    "    \"\"\"Returns a list of block ids.\"\"\"\n",
    "    block_muni = 'http://aahar.jharkhand.gov.in/transactions/getBlockMunicipality'\n",
    "    dist_post = {'data[Transaction][rgi_district_code]':d_id}\n",
    "    r = requests.post(block_muni, data=dist_post)\n",
    "    content = r.text\n",
    "    soup = BeautifulSoup(content, \"html.parser\")\n",
    "    block_ids = [(option['value'],option.text) for option in soup.find_all('option', value=True)[1:]]\n",
    "    #print(block_ids)\n",
    "    return block_ids"
   ]
  },
  {
   "cell_type": "code",
   "execution_count": 34,
   "metadata": {
    "collapsed": false
   },
   "outputs": [],
   "source": [
    "#def get_transactions(post):\n",
    "#    \"\"\"Returns transactions.\"\"\"\n",
    "#    for key, value in block_ids.items():\n",
    "#        for block in value:\n",
    "#            payload = {'data[DealerUserLog][district_id]':key,\n",
    "#                          'data[DealerUserLog][block_city_id]': ,\n",
    "#                          'data[DealerUserLog][stockdatefrom]':'27-10-2016' }\n",
    "#            print(block_post)\n",
    "#            print(key, block[0], block[1])\n",
    "        "
   ]
  },
  {
   "cell_type": "code",
   "execution_count": 35,
   "metadata": {
    "collapsed": false
   },
   "outputs": [],
   "source": [
    "payload = {'data[DealerUserLog][district_id]':'1', 'data[DealerUserLog][block_city_id]':'1',\n",
    "           'data[DealerUserLog][stockdatefrom]': '17-10-2016'}"
   ]
  },
  {
   "cell_type": "code",
   "execution_count": 36,
   "metadata": {
    "collapsed": true
   },
   "outputs": [],
   "source": [
    "r = requests.post(\"http://aahar.jharkhand.gov.in/dealer_user_logs/hhdLoginDetail\", data=payload)\n",
    "data = r.text"
   ]
  },
  {
   "cell_type": "code",
   "execution_count": 37,
   "metadata": {
    "collapsed": false
   },
   "outputs": [
    {
     "data": {
      "text/plain": [
       "u'<!DOCTYPE html PUBLIC \"-//W3C//DTD XHTML 1.0 Transitional//EN\" \"http://www.w3.org/TR/xhtml1/DTD/xhtml1-transitional.dtd\">\\r\\n<html xmlns=\"http://www.w3.org/1999/xhtml\">\\r\\n\\t<head>\\r\\n\\r\\n    <meta http-equiv=\"Content-Type\" content=\"text/html; charset=UTF-8\"/>\\r\\n<meta name=\"viewport\" content=\"width=device-width, initial-scale=1.0, maximum-scale=1.0, user-scalable=no\">\\r\\n<meta name=\"apple-mobile-web-app-capable\" content=\"yes\">\\r\\n    <meta http-equiv=\"X-UA-Compatible\" content=\"IE=edge\"/>\\r\\n\\t<meta name=\"viewport\" content=\"width=320\"/>\\r\\n\\r\\n     <script type=\"text/javascript\" src=\"/js/prototype.js.pagespeed.jm.dVJrnHUhUN.js\"></script><script type=\"text/javascript\">//<![CDATA[\\n$(document).ready(function(){$(\\'#cssmenu\\').prepend(\\'<div id=\"indicatorContainer\"><div id=\"pIndicator\"><div id=\"cIndicator\"></div></div></div>\\');var activeElement=$(\\'#cssmenu>ul>li:first\\');$(\\'#cssmenu>ul>li\\').each(function(){if($(this).hasClass(\\'active\\')){activeElement=$(this);}});var posLeft=activeElement.position().left;var elementWidth=activeElement.width();posLeft=posLeft+elementWidth/2-6;if(activeElement.hasClass(\\'has-sub\\')){posLeft-=6;}\\n$(\\'#cssmenu #pIndicator\\').css(\\'left\\',posLeft);var element,leftPos,indicator=$(\\'#cssmenu pIndicator\\');$(\"#cssmenu>ul>li\").hover(function(){element=$(this);var w=element.width();if($(this).hasClass(\\'has-sub\\'))\\n{leftPos=element.position().left+w/2-12;}\\nelse{leftPos=element.position().left+w/2-6;}\\n$(\\'#cssmenu #pIndicator\\').css(\\'left\\',leftPos);},function(){$(\\'#cssmenu #pIndicator\\').css(\\'left\\',posLeft);});$(\\'#cssmenu>ul>.has-sub>ul\\').append(\\'<div class=\"submenuArrow\"></div>\\');$(\\'#cssmenu>ul\\').children(\\'.has-sub\\').each(function(){var posLeftArrow=$(this).width();posLeftArrow/=2;posLeftArrow-=12;$(this).find(\\'.submenuArrow\\').css(\\'left\\',posLeftArrow);});$(\\'#cssmenu>ul\\').prepend(\\'<li id=\"menu-button\"><a>Menu</a></li>\\');$(\"#menu-button\").click(function(){if($(this).parent().hasClass(\\'open\\')){$(this).parent().removeClass(\\'open\\');}\\nelse{$(this).parent().addClass(\\'open\\');}});});\\n//]]></script>    <link href=\"./img/icon.ico\" type=\"image/ico\" rel=\"icon\"/>\\r\\n<!--     <title>OpenPDS - Welcome To UserManagement</title>  -->\\r\\n\\r\\n        \\r\\n\\t\\t\\t<meta http-equiv=\"Content-Type\" content=\"text/html; charset=utf-8\"/>\\t\\t<title>\\r\\n\\t\\t\\tJharkhand Government PDS System\\t\\t\\tDealer User Logs</title>\\r\\n\\r\\n\\t<link rel=\"stylesheet\" type=\"text/css\" href=\"/css/A.footer.css+dashboard.css+bootstrap.min.css+bootstrap-responsive.min.css+font-awesome.css+style.css,Mcc.iiB9FriRCR.css.pagespeed.cf.NXny14lZdA.css\"/>\\t\\t\\t\\t\\t\\t<link rel=\"stylesheet\" type=\"text/css\" href=\"/css/grid.css\"/></head>\\r\\n<body bgcolor=\"#f8faff\">\\r\\n\\r\\n<div class=\"navbar-header\">\\r\\n    <!-------<div class=\"row\" style=\"position: absolute; left: 79px; top: 5px; z-index: 9595959;\">\\r\\n    <img src=\"/img/Seal_of_Jharkhand_2.png\" width=\"40%\"></div>---------->\\r\\n     <img src=\"/img/xhead4.jpg.pagespeed.ic.ioBk--WJe1.jpg\" width=\"100%\">\\r\\n<div> \\t<style>body{background-color:#f7efeb}#nav{width:100%;font-family:\\'Open Sans\\',sans-serif;font-weight:400;position:absolute;z-index:99999999;position:absolute}#nav>a{display:none}#nav li{position:relative;list-style-type:none}#nav li a{color:#dee65f;display:block;text-align:center}#nav li a:active{background-color:#c00!important}#nav span:after{width:0;height:0;border:.313em solid transparent;border-bottom:none;border-top-color:#efa585;content:\\'\\';vertical-align:middle;display:inline-block;position:relative;right:-.313em}#nav>ul{height:2.4em;background-color:#0a6a5f}#nav>ul>li{width:10%;float:left}#nav>ul>li>a{font-size:1.29em;line-height:26px;font-weight:bold;border-top:1px solid #90837e;padding:.00em;text-decoration:none}#nav > ul > li:not( :last-child ) > a\\n\\t\\t\\t\\t\\t\\t{border-right:1px solid #90837e;text-align:center}#nav > ul > li:hover > a,\\n\\t\\t\\t\\t\\t\\t#nav > ul:not( :hover ) > li.active > a\\n\\t\\t\\t\\t\\t\\t{background-color:#656477;color:#fff}#nav li ul{background-color:#656477;display:none;position:absolute;top:100%}#nav li:hover ul{display:block;left:0;right:0}#nav li:not( :first-child ):hover ul\\n\\t\\t\\t\\t\\t\\t{left:-1px}#nav li ul a{font-size:1.50em;border-top:1px solid #90837e;padding:.75em;text-decoration:none;font-weight:bold}#nav li ul li a:hover,\\n\\t\\t\\t\\t\\t\\t\\t#nav li ul:not( :hover ) li.active a\\n\\t\\t\\t\\t\\t\\t\\t{background-color:#656477;color:#fff}@media only screen and (max-width:62.5em ){#nav{width:100%;position:static;margin:0}}@media screen and (min-width:71em) and (max-width:100em){#nav>ul{font-size:12px;border-top:1px solid #e15a1f;padding:-1.25em;text-decoration:none}}@media only screen and (max-width:70em ){html{font-size:75%}#nav{position:relative;top:auto;left:auto}#nav>a{width:3.125em;height:3.125em;text-align:left;text-indent:-9999px;background-color:#e15a1f;position:relative}#nav>a:before,#nav>a:after{position:absolute;border:2px solid #fff;top:35%;left:25%;right:25%;content:\\'\\'}#nav>a:after{top:60%}#nav:not( :target ) > a:first-of-type,\\n\\t\\t\\t\\t#nav:target > a:last-of-type\\n\\t\\t\\t\\t{display:block}#nav>ul{height:auto;display:none;position:absolute;left:0;right:0}#nav:target>ul{display:block}#nav>ul>li{width:100%;float:none}#nav>ul>li>a{height:auto;text-align:left;padding:0 .833em}#nav > ul > li:not( :last-child ) > a\\n\\t\\t\\t\\t\\t\\t{border-right:none;border-bottom:1px solid #cc470d}#nav li ul{position:static;padding:1.25em;padding-top:0}}@media only screen and (max-width:100em ){#nav>ul li{font-size:.8em}}</style>\\n</head>\\n\\n<body>\\n\\n\\n\\n\\n<nav id=\"nav\" role=\"navigation\">\\n\\t<a href=\"#nav\" title=\"Show navigation\">Show navigation</a>\\n\\t<a href=\"#\" title=\"Hide navigation\">Hide navigation</a>\\n\\t<ul class=\"clearfix\">\\n  <li>\\n <a href=\"/\" class=\"\" target=\"_top\">HOME</a>     \\n                   </li>\\n                        \\n                        <li><a href=\"#\">CARDHOLDER &#9662;</a> \\n                        \\n                            <ul>\\n\\t                    <li> <a href=\"/secc_districts/districts\" class=\"\" target=\"_top\">Digitization</a></li>\\n\\t                    <li> <a href=\"/secc_cardholders/searchRation\" class=\"\" target=\"_top\">Rationcard Detail</a></li>\\n                        \\n\\t                    <li> <a href=\"/cardholder_transactions/searchTransaction\" class=\"\" target=\"_top\">Entitlement</a> </li>\\n                         </ul>\\n                         \\n                        </li>\\n                        \\n                        <li><a href=\"#\">TRANSACTION &#9662;</a>\\n                          <ul>\\n\\t   \\t\\t          <li><a href=\"/district_monthly_reports/\" class=\"\" target=\"_top\">Summary Report</a></li>\\n\\n\\t\\t\\t          <li><a href=\"/transactions/transactionView\" class=\"\" target=\"_top\">Datewise Report</a></li> \\n                         </ul>\\n                        </li>\\n                        \\n                        \\n                        \\n                        <li><a href=\"#\">DEALER &#9662;</a>\\n                            \\n                            <ul>\\n\\t   \\t<li><a href=\"/district_reports/districtDealer\" class=\"\" target=\"_top\">Dealer Summary</a></li>\\n\\n\\t   <li><a href=\"/district_allocations/dealerBankSlip\" class=\"\" target=\"_top\">Dealer&#039;s Bank Slip</a></li>\\n\\t <li><a href=\"/bank_payments/bankReport\" class=\"\" target=\"_top\">Bank Payment Report</a></li>\\n\\t <li><a href=\"/secc_cardholders/searchAllocationDealerWise\" class=\"\" target=\"_top\">Allocation Report</a></li>\\n        </ul>\\n                            \\n                        </li>\\n                        <li><a href=\"#\">HHT &#9662;</a>\\n                           \\n                           <ul>\\n\\t   \\t\\t\\t\\t<li><a href=\"/dealer_user_logs/hhdLogin\" class=\"\" target=\"_top\">HHT Login Details</a></li>\\n\\n\\t\\t\\t\\t<li><a href=\"/hhd_masters/\" class=\"\" target=\"_top\">HHT List</a></li>\\n                            </ul>\\n                        </li>\\n                        \\n                        \\n                        <li><a href=\"rentals.html\">POLICY &#9662;</a>\\n                        \\n                        <ul>\\n\\t   <li><a href=\"/policy_temps/searchPolicyFilter\" class=\"\" target=\"_top\">Policy Report</a></li>\\n        </ul>\\n\\n                        </li>\\n                        \\n                        <li><a href=\"#\">OFFICES &#9662;</a>\\n                       <ul>\\n\\t   \\t\\t<li><a href=\"/dso_masters/\" class=\"\" target=\"_top\">DSO</a></li>\\n\\t\\t\\t<li><a href=\"/sdo_masters/\" class=\"\" target=\"_top\">SDO</a></li>\\n\\t\\t\\t<li><a href=\"/depot_masters/depotStock\" class=\"\" target=\"_top\">Depot</a></li>\\n             </ul>\\n             </li>\\n               \\n                        \\n                        \\n                         <li><a href=\"http://jharkhandsamadhan.nic.in/\" target=\"_blank\">E-SAMADHAN</a>\\n                      \\n                        </li>\\n                        \\n                              \\n                      <li><a href=\"#\">RATION FORM &#9662;</a>\\n                    <ul>\\n\\t                <li>  <a href=\"/download/rural.pdf\"> Rural (Inclusion)</a> </li>\\n      \\n\\t               <li>  <a href=\"/download/urban.pdf\"> Urban (Inclusion)</a> </li>\\n                    </ul>\\n                    </li>\\n   \\n                    <li> \\n                    <a href=\"http://pds.jharkhand.gov.in\" target=\"_blank\" id=\"content\">   OFFICIAL LOGIN </a>\\n\\t\\t\\t\\t\\t</li>\\n              \\n                             \\n                  \\n                   </li>\\n\\t</ul>\\n</nav>\\n\\n<script>$(function()\\n{$(\\'#nav li:has(ul)\\').doubleTapToGo();});</script>\\n\\n\\n\\n\\n\\n\\n\\n\\n\\n\\n\\n\\n\\n\\n </div>\\r\\n\\r\\n<!-- /navbar -->\\r\\n<div class=\"main\" style=\"margin-top:5%\">\\r\\n<script language=\"javascript\" type=\"text/javascript\">function tablePrint()\\n{var display_setting=\"toolbar=no,location=no,directories=no,menubar=no,\";display_setting+=\"scrollbars=no,width=0, height=0, left=0, top=0\";var districtReport_innerhtml=document.getElementById(\"maintable\").innerHTML;var document_print=window.open(\"\",\"\",display_setting);document_print.document.open();document_print.document.write(\\'<html><head><title>Jharkhand Government  e-Ration Card</title>\\t<link rel=\"stylesheet\" type=\"text/css\" href=\"/css/report_print.css\" /></head>\\');document_print.document.write(\\'<body onLoad=\"self.print();self.close();\" >\\');document_print.document.write(\\'<br/>\\');document_print.document.write(\\'<table width=\"90%\"  align=\"center\"  class=\"zeroborder\" >\\');document_print.document.write(\\'<tr><td><center><img src =\"/img/jhar_govt.gif\"/> </center></td></tr>\\');document_print.document.write(\\' </table>\\');document_print.document.write(\\'<table width=\"90%\"  align=\"center\"  cellspacing =\"0\" cellpadding=\"0\" border=\"1\" >\\');document_print.document.write(districtReport_innerhtml);document_print.document.write(\\'</table>\\');document_print.document.write(\\'</body></html>\\');document_print.print();document_print.document.close();return false;}</script>\\n<link rel=\"stylesheet\" type=\"text/css\" href=\"/css/grid.css\"/><!--<table cellpadding=\"1\" cellspacing=\"1\" border=\"0\"  width=\"100%\">\\n     <tr><td align=\"center\"><img src =\"../img/new_jhar_Govt_Logo_heading1.gif\" style=\"height:60px\" /></td></tr> \\n</table>-->\\n<br/>\\n\\n<br/>\\n<table width=\"60%\" border=\"0\" cellpadding=\"0\" cellspacing=\"0\" style=\"margin:auto\">\\n\\t<tr>\\n  \\t\\t\\n  \\t\\t<td align=\"left\">     \\n\\t\\t\\t <div class=\"submit\"><input type=\"image\" src=\"/img/xprint.png.pagespeed.ic.9M9qyoblOo.png\" onclick=\"tablePrint()\" value=\"test\"/></div>      </td>\\n    </tr>\\n</table>\\n\\n\\t<div class=\"grid\" align=\"center\">\\n   <table width=\"60%\" id=\"maintable\">\\n\\t   <tr class=\"heading\"><th colspan=\"14\">Dealer HHT Login Detail Of District:&nbsp;BOKARO, Block:&nbsp;BERMO&nbsp; On Date:&nbsp;17-10-2016 </th></tr>\\n\\t   <tr class=\"heading\">\\n\\t   \\t\\t<th>Sl No.</th>\\n\\t\\t\\t<th>Dealer Name</th>\\n\\t   \\t\\t<th>Dealer User Name</th>\\n\\t\\t\\t<th>HHT Unique Id</th>\\n\\t\\t\\t<th>HHT Login Time</th>\\n\\t\\t\\t\\n\\t   \\n\\t   </tr> \\n\\t    \\n\\t    <tr bgcolor=\"#bdcfe7\">\\n\\t\\t\\t<td>1</td>\\n\\t\\t\\t<td><a href=\"/transactions/hhdLoginTransaction/NGYwN2UzMTYtNmU1MC00M2RjLTg0Y2MtMGVkODBhODY3OTFi/MQ==/MjAxNi0xMC0xNw==\">PIYUSH KUMAR DEY</a></td>\\n\\t\\t    \\t<td>PIYUSH KUMAR&nbsp;DEY</td>\\n\\t\\t\\t<td></td>\\n\\t\\t\\t<td>17-10-2016 03:58:29 PM</td>\\n\\t\\t\\t\\n\\t   </tr> \\n\\t    \\n\\t    <tr bgcolor=\"#bdcfe7\">\\n\\t\\t\\t<td>2</td>\\n\\t\\t\\t<td><a href=\"/transactions/hhdLoginTransaction/NGYwN2U0Y2YtZThjNC00OWUxLTg1ZGQtMGVkODBhODY3OTFi/MQ==/MjAxNi0xMC0xNw==\">SATENDRA PRASAD MODI</a></td>\\n\\t\\t    \\t<td>SATENDRA PRASAD&nbsp;MODI</td>\\n\\t\\t\\t<td></td>\\n\\t\\t\\t<td>17-10-2016 10:08:07 PM</td>\\n\\t\\t\\t\\n\\t   </tr> \\n\\t    \\n\\t    <tr bgcolor=\"#bdcfe7\">\\n\\t\\t\\t<td>3</td>\\n\\t\\t\\t<td><a href=\"/transactions/hhdLoginTransaction/NGYwN2U2NjUtMzU4OC00MDEyLTgzMGItMGVkODBhODY3OTFi/MQ==/MjAxNi0xMC0xNw==\">JAI PRAKASH SAW</a></td>\\n\\t\\t    \\t<td>JAI PRAKASH&nbsp;SAW</td>\\n\\t\\t\\t<td></td>\\n\\t\\t\\t<td>17-10-2016 08:38:20 AM</td>\\n\\t\\t\\t\\n\\t   </tr> \\n\\t    \\n\\t    <tr bgcolor=\"#bdcfe7\">\\n\\t\\t\\t<td>4</td>\\n\\t\\t\\t<td><a href=\"/transactions/hhdLoginTransaction/NGYwN2ViNDItZmNmOC00ZWE5LWEyZjgtMGVkODBhODY3OTFi/MQ==/MjAxNi0xMC0xNw==\">BERMO JARIDIH UPBHOKTA BHANDAR</a></td>\\n\\t\\t    \\t<td>NITESH&nbsp;KUMAR</td>\\n\\t\\t\\t<td></td>\\n\\t\\t\\t<td>17-10-2016 02:33:23 PM</td>\\n\\t\\t\\t\\n\\t   </tr> \\n\\t   \\t    <tr>\\n\\t\\t\\t<td></td>\\n\\t\\t\\t<td></td>\\n\\t\\t    <td>NITESH&nbsp;KUMAR</td>\\n\\t\\t\\t<td></td>\\n\\t\\t\\t<td>17-10-2016 02:36:07 PM</td>\\n\\t\\t\\t\\n\\t   </tr> \\n\\t   \\t    <tr>\\n\\t\\t\\t<td></td>\\n\\t\\t\\t<td></td>\\n\\t\\t    <td>NITESH&nbsp;KUMAR</td>\\n\\t\\t\\t<td></td>\\n\\t\\t\\t<td>17-10-2016 02:23:17 PM</td>\\n\\t\\t\\t\\n\\t   </tr> \\n\\t   \\t    <tr>\\n\\t\\t\\t<td></td>\\n\\t\\t\\t<td></td>\\n\\t\\t    <td>NITESH&nbsp;KUMAR</td>\\n\\t\\t\\t<td></td>\\n\\t\\t\\t<td>17-10-2016 02:28:04 PM</td>\\n\\t\\t\\t\\n\\t   </tr> \\n\\t    \\n\\t    <tr bgcolor=\"#bdcfe7\">\\n\\t\\t\\t<td>5</td>\\n\\t\\t\\t<td><a href=\"/transactions/hhdLoginTransaction/NGYwN2YwOTQtN2EwNC00YTQwLTk2YjEtMGVkODBhODY3OTFi/MQ==/MjAxNi0xMC0xNw==\">YAMUNA YADAV</a></td>\\n\\t\\t    \\t<td>YAMUNA&nbsp;YADAV</td>\\n\\t\\t\\t<td></td>\\n\\t\\t\\t<td>17-10-2016 07:34:19 AM</td>\\n\\t\\t\\t\\n\\t   </tr> \\n\\t   \\t    <tr>\\n\\t\\t\\t<td></td>\\n\\t\\t\\t<td></td>\\n\\t\\t    <td>YAMUNA&nbsp;YADAV</td>\\n\\t\\t\\t<td></td>\\n\\t\\t\\t<td>17-10-2016 03:27:30 PM</td>\\n\\t\\t\\t\\n\\t   </tr> \\n\\t   \\t    <tr>\\n\\t\\t\\t<td></td>\\n\\t\\t\\t<td></td>\\n\\t\\t    <td>YAMUNA&nbsp;YADAV</td>\\n\\t\\t\\t<td></td>\\n\\t\\t\\t<td>17-10-2016 07:39:55 AM</td>\\n\\t\\t\\t\\n\\t   </tr> \\n\\t    \\n\\t    <tr bgcolor=\"#bdcfe7\">\\n\\t\\t\\t<td>6</td>\\n\\t\\t\\t<td><a href=\"/transactions/hhdLoginTransaction/NGYwN2Y0YjYtNjhlYy00ZjEwLTk2ZWQtMGVkODBhODY3OTFi/MQ==/MjAxNi0xMC0xNw==\">ABHIMANYU KUMAR SINHA</a></td>\\n\\t\\t    \\t<td>ABHIMNYU KUMAR&nbsp;SINHA</td>\\n\\t\\t\\t<td></td>\\n\\t\\t\\t<td>17-10-2016 01:44:55 PM</td>\\n\\t\\t\\t\\n\\t   </tr> \\n\\t   \\t    <tr>\\n\\t\\t\\t<td></td>\\n\\t\\t\\t<td></td>\\n\\t\\t    <td>ABHIMNYU KUMAR&nbsp;SINHA</td>\\n\\t\\t\\t<td></td>\\n\\t\\t\\t<td>17-10-2016 01:50:34 PM</td>\\n\\t\\t\\t\\n\\t   </tr> \\n\\t    \\n\\t    <tr bgcolor=\"#bdcfe7\">\\n\\t\\t\\t<td>7</td>\\n\\t\\t\\t<td><a href=\"/transactions/hhdLoginTransaction/NGYwN2Y3YmQtNGNhMC00MWIxLWEwMWUtMGVkODBhODY3OTFi/MQ==/MjAxNi0xMC0xNw==\"> MURALIDHAR NISHAD</a></td>\\n\\t\\t    \\t<td>MURALIDHAR&nbsp;NISHAD</td>\\n\\t\\t\\t<td></td>\\n\\t\\t\\t<td>17-10-2016 06:39:36 AM</td>\\n\\t\\t\\t\\n\\t   </tr> \\n\\t    \\n\\t    <tr bgcolor=\"#bdcfe7\">\\n\\t\\t\\t<td>8</td>\\n\\t\\t\\t<td><a href=\"/transactions/hhdLoginTransaction/NGYwN2ZhNTAtZWMzMC00MDI0LTk5YmUtMGVkODBhODY3OTFi/MQ==/MjAxNi0xMC0xNw==\">RINTU SINGH</a></td>\\n\\t\\t    \\t<td>RINTU KUMAR&nbsp;SINGH</td>\\n\\t\\t\\t<td></td>\\n\\t\\t\\t<td>17-10-2016 09:15:44 AM</td>\\n\\t\\t\\t\\n\\t   </tr> \\n\\t    \\n\\t    <tr bgcolor=\"#bdcfe7\">\\n\\t\\t\\t<td>9</td>\\n\\t\\t\\t<td><a href=\"/transactions/hhdLoginTransaction/NGYwN2ZiOTgtZjg2MC00Mzc5LWFlY2MtMGVkODBhODY3OTFi/MQ==/MjAxNi0xMC0xNw==\">BHARAT SINGH</a></td>\\n\\t\\t    \\t<td>AJAY&nbsp;SINGH</td>\\n\\t\\t\\t<td></td>\\n\\t\\t\\t<td>17-10-2016 02:37:28 PM</td>\\n\\t\\t\\t\\n\\t   </tr> \\n\\t    \\n\\t    <tr bgcolor=\"#bdcfe7\">\\n\\t\\t\\t<td>10</td>\\n\\t\\t\\t<td><a href=\"/transactions/hhdLoginTransaction/NGYwYWJlNzQtMzA1MC00OWNiLWI5NTgtMTNiYzBhODY3OTFi/MQ==/MjAxNi0xMC0xNw==\">KAMESHWAR PANDEY</a></td>\\n\\t\\t    \\t<td>AJAY&nbsp;PANDEY</td>\\n\\t\\t\\t<td></td>\\n\\t\\t\\t<td>17-10-2016 12:52:49 PM</td>\\n\\t\\t\\t\\n\\t   </tr> \\n\\t    \\n\\t    <tr bgcolor=\"#bdcfe7\">\\n\\t\\t\\t<td>11</td>\\n\\t\\t\\t<td><a href=\"/transactions/hhdLoginTransaction/NGYwYWJmNDktODdkYy00NmM1LTk2Y2QtMTNiYzBhODY3OTFi/MQ==/MjAxNi0xMC0xNw==\">PARWAT SINGH</a></td>\\n\\t\\t    \\t<td>PARBAT&nbsp;SINGH</td>\\n\\t\\t\\t<td></td>\\n\\t\\t\\t<td>17-10-2016 04:31:51 PM</td>\\n\\t\\t\\t\\n\\t   </tr> \\n\\t   \\t    <tr>\\n\\t\\t\\t<td></td>\\n\\t\\t\\t<td></td>\\n\\t\\t    <td>PARBAT&nbsp;SINGH</td>\\n\\t\\t\\t<td></td>\\n\\t\\t\\t<td>17-10-2016 04:46:35 PM</td>\\n\\t\\t\\t\\n\\t   </tr> \\n\\t   \\t    <tr>\\n\\t\\t\\t<td></td>\\n\\t\\t\\t<td></td>\\n\\t\\t    <td>PARBAT&nbsp;SINGH</td>\\n\\t\\t\\t<td></td>\\n\\t\\t\\t<td>17-10-2016 04:47:17 PM</td>\\n\\t\\t\\t\\n\\t   </tr> \\n\\t    \\n\\t    <tr bgcolor=\"#bdcfe7\">\\n\\t\\t\\t<td>12</td>\\n\\t\\t\\t<td><a href=\"/transactions/hhdLoginTransaction/NGYwYWMwYjMtY2ViYy00MDFhLTljYTQtMTNiYzBhODY3OTFi/MQ==/MjAxNi0xMC0xNw==\">BHARAT PRASAD SINHA</a></td>\\n\\t\\t    \\t<td>BHARAT PRASAD&nbsp;SINHA</td>\\n\\t\\t\\t<td></td>\\n\\t\\t\\t<td>17-10-2016 02:18:13 PM</td>\\n\\t\\t\\t\\n\\t   </tr> \\n\\t    \\n\\t    <tr bgcolor=\"#bdcfe7\">\\n\\t\\t\\t<td>13</td>\\n\\t\\t\\t<td><a href=\"/transactions/hhdLoginTransaction/NGYwYWMxOWMtOGViOC00NTE2LTkwYjktMTNiYzBhODY3OTFi/MQ==/MjAxNi0xMC0xNw==\">MANOJ KUMAR</a></td>\\n\\t\\t    \\t<td>MANOJ&nbsp;KUMAR</td>\\n\\t\\t\\t<td></td>\\n\\t\\t\\t<td>17-10-2016 06:25:33 PM</td>\\n\\t\\t\\t\\n\\t   </tr> \\n\\t   \\t    <tr>\\n\\t\\t\\t<td></td>\\n\\t\\t\\t<td></td>\\n\\t\\t    <td>MANOJ&nbsp;KUMAR</td>\\n\\t\\t\\t<td></td>\\n\\t\\t\\t<td>17-10-2016 02:11:00 PM</td>\\n\\t\\t\\t\\n\\t   </tr> \\n\\t    \\n\\t    <tr bgcolor=\"#bdcfe7\">\\n\\t\\t\\t<td>14</td>\\n\\t\\t\\t<td><a href=\"/transactions/hhdLoginTransaction/NTAwNTE1NmYtNjgzMC00Yjk0LTllM2EtMGZhMDBhODY3OTA2/MQ==/MjAxNi0xMC0xNw==\">LAXMAN THAKUR</a></td>\\n\\t\\t    \\t<td>SURESH&nbsp;KUMAR</td>\\n\\t\\t\\t<td></td>\\n\\t\\t\\t<td>17-10-2016 07:54:41 AM</td>\\n\\t\\t\\t\\n\\t   </tr> \\n\\t   \\t    <tr>\\n\\t\\t\\t<td></td>\\n\\t\\t\\t<td></td>\\n\\t\\t    <td>SURESH&nbsp;KUMAR</td>\\n\\t\\t\\t<td></td>\\n\\t\\t\\t<td>17-10-2016 08:47:39 PM</td>\\n\\t\\t\\t\\n\\t   </tr> \\n\\t      </table>\\n     </div>\\n\\n</div>\\r\\n</div>\\r\\n\\r\\n<!-- /main -->\\r\\n<div>  </div>\\r\\n<!-- /extra -->\\r\\n\\r\\n\\r\\n<div>  </div>\\r\\n        <!-- /span12 --> \\r\\n<div> <div class=\"extra\">\\n<div class=\"extra-inner\" style=\"background-color:#0a6a5f;color:#a0acbf; border-top-color:#dee65f; border-top-style:solid; border-top-width:1px;\">\\n\\n    <div class=\"container\">\\n      <div class=\"row\" align=\"center\">\\n                    <div style=\"width:100%; margin-top:1%;color:#dee65f; align:center\">\\n\\t\\t\\t\\t\\t<h4><b>Page last updated on :Sunday, December 4, 2016 23:00:45</b></h4>\\n\\t  \\t\\t\\t\\t</div>\\n                    <div style=\"width:100%; align:center; color:#dee65f;\">\\n\\t\\t\\t\\t\\n\\t\\t\\t\\t\\t<center>\\n                            <h4><b>Design and Developed by</b> National Informatics Centre Jharkhand<br/>\\n                            <b>Best viewed in</b> Firefox 4.0 or higher  on 1280x1024 pixels screen resolution\\n\\t\\t\\t    <br/>\\nSite Owned by Department of Food, Public Distribution & Consumer Affairs, Government of Jharkhand.\\n<center><h4>HELPLINE NUMBER :- 18003456598</h4></center>\\n<!--<font color=\\'red\\' face=\\'Arial black\\'><b>Visitors Count</b><br />\\n</font> \\n-->\\n                            </h4>\\n                        </center>\\n\\t\\t\\t\\n\\t\\t\\t\\t\\t\\t\\t\\n                    </div>\\n                    <!-- /span3 -->\\n               </div>\\n      <!-- /row --> \\n    </div>\\n    <!-- /container --> \\n  </div>\\n\\t\\t\\t\\t\\t\\t\\t\\n</div>\\n </div>\\r\\n</body>\\r\\n</html>\\r\\n'"
      ]
     },
     "execution_count": 37,
     "metadata": {},
     "output_type": "execute_result"
    }
   ],
   "source": [
    "data"
   ]
  },
  {
   "cell_type": "code",
   "execution_count": 38,
   "metadata": {
    "collapsed": false,
    "scrolled": true
   },
   "outputs": [
    {
     "data": {
      "text/plain": [
       "u'.css(\\'left\\',posLeft);});$(\\'#cssmenu>ul>.has-sub>ul\\').append(\\'<div class=\"submenuArrow\"></div>\\');$(\\'#cssmenu>ul\\').children(\\'.has-sub\\').each(function(){var posLeftArrow=$(this).width();posLeftArrow/=2;posLeftArrow-=12;$(this).find(\\'.submenuArrow\\').css(\\'left\\',posLeftArrow);});$(\\'#cssmenu>ul\\').prepend(\\'<li id=\"menu-button\"><a>Menu</a></li>\\');$(\"#menu-button\").click(function(){if($(this).parent().hasClass(\\'open\\')){$(this).parent().removeClass(\\'open\\');}\\nelse{$(this).parent().addClass(\\'open\\');}});});\\n//]]>\\n    </script>\\n    <link href=\"./img/icon.ico\" rel=\"icon\" type=\"image/ico\"/>\\n    <!--     <title>OpenPDS - Welcome To UserManagement</title>  -->\\n    <meta content=\"text/html; charset=utf-8\" http-equiv=\"Content-Type\"/>\\n    <title>\\n     Jharkhand Government PDS System\\t\\t\\tDealer User Logs\\n    </title>\\n    <link href=\"/css/A.footer.css+dashboard.css+bootstrap.min.css+bootstrap-responsive.min.css+font-awesome.css+style.css,Mcc.iiB9FriRCR.css.pagespeed.cf.NXny14lZdA.css\" rel=\"stylesheet\" type=\"text/css\"/>\\n    <link href=\"/css/grid.css\" rel=\"stylesheet\" type=\"text/css\"/>\\n   </meta>\\n  </meta>\\n </head>\\n <body bgcolor=\"#f8faff\">\\n  <div class=\"navbar-header\">\\n   <!-------<div class=\"row\" style=\"position: absolute; left: 79px; top: 5px; z-index: 9595959;\">\\r\\n    <img src=\"/img/Seal_of_Jharkhand_2.png\" width=\"40%\"></div>---------->\\n   <img src=\"/img/xhead4.jpg.pagespeed.ic.ioBk--WJe1.jpg\" width=\"100%\">\\n    <div>\\n     <style>\\n      body{background-color:#f7efeb}#nav{width:100%;font-family:\\'Open Sans\\',sans-serif;font-weight:400;position:absolute;z-index:99999999;position:absolute}#nav>a{display:none}#nav li{position:relative;list-style-type:none}#nav li a{color:#dee65f;display:block;text-align:center}#nav li a:active{background-color:#c00!important}#nav span:after{width:0;height:0;border:.313em solid transparent;border-bottom:none;border-top-color:#efa585;content:\\'\\';vertical-align:middle;display:inline-block;position:relative;right:-.313em}#nav>ul{height:2.4em;background-color:#0a6a5f}#nav>ul>li{width:10%;float:left}#nav>ul>li>a{font-size:1.29em;line-height:26px;font-weight:bold;border-top:1px solid #90837e;padding:.00em;text-decoration:none}#nav > ul > li:not( :last-child ) > a\\n\\t\\t\\t\\t\\t\\t{border-right:1px solid #90837e;text-align:center}#nav > ul > li:hover > a,\\n\\t\\t\\t\\t\\t\\t#nav > ul:not( :hover ) > li.active > a\\n\\t\\t\\t\\t\\t\\t{background-color:#656477;color:#fff}#nav li ul{background-color:#656477;display:none;position:absolute;top:100%}#nav li:hover ul{display:block;left:0;right:0}#nav li:not( :first-child ):hover ul\\n\\t\\t\\t\\t\\t\\t{left:-1px}#nav li ul a{font-size:1.50em;border-top:1px solid #90837e;padding:.75em;text-decoration:none;font-weight:bold}#nav li ul li a:hover,\\n\\t\\t\\t\\t\\t\\t\\t#nav li ul:not( :hover ) li.active a\\n\\t\\t\\t\\t\\t\\t\\t{background-color:#656477;color:#fff}@media only screen and (max-width:62.5em ){#nav{width:100%;position:static;margin:0}}@media screen and (min-width:71em) and (max-width:100em){#nav>ul{font-size:12px;border-top:1px solid #e15a1f;padding:-1.25em;text-decoration:none}}@media only screen and (max-width:70em ){html{font-size:75%}#nav{position:relative;top:auto;left:auto}#nav>a{width:3.125em;height:3.125em;text-align:left;text-indent:-9999px;background-color:#e15a1f;position:relative}#nav>a:before,#nav>a:after{position:absolute;border:2px solid #fff;top:35%;left:25%;right:25%;content:\\'\\'}#nav>a:after{top:60%}#nav:not( :target ) > a:first-of-type,\\n\\t\\t\\t\\t#nav:target > a:last-of-type\\n\\t\\t\\t\\t{display:block}#nav>ul{height:auto;display:none;position:absolute;left:0;right:0}#nav:target>ul{display:block}#nav>ul>li{width:100%;float:none}#nav>ul>li>a{height:auto;text-align:left;padding:0 .833em}#nav > ul > li:not( :last-child ) > a\\n\\t\\t\\t\\t\\t\\t{border-right:none;border-bottom:1px solid #cc470d}#nav li ul{position:static;padding:1.25em;padding-top:0}}@media only screen and (max-width:100em ){#nav>ul li{font-size:.8em}}\\n     </style>\\n    </div>\\n   </img>\\n  </div>\\n </body>\\n</html>\\n<body>\\n <nav id=\"nav\" role=\"navigation\">\\n  <a href=\"#nav\" title=\"Show navigation\">\\n   Show navigation\\n  </a>\\n  <a href=\"#\" title=\"Hide navigation\">\\n   Hide navigation\\n  </a>\\n  <ul class=\"clearfix\">\\n   <li>\\n    <a class=\"\" href=\"/\" target=\"_top\">\\n     HOME\\n    </a>\\n   </li>\\n   <li>\\n    <a href=\"#\">\\n     CARDHOLDER \\u25be\\n    </a>\\n    <ul>\\n     <li>\\n      <a class=\"\" href=\"/secc_districts/districts\" target=\"_top\">\\n       Digitization\\n      </a>\\n     </li>\\n     <li>\\n      <a class=\"\" href=\"/secc_cardholders/searchRation\" target=\"_top\">\\n       Rationcard Detail\\n      </a>\\n     </li>\\n     <li>\\n      <a class=\"\" href=\"/cardholder_transactions/searchTransaction\" target=\"_top\">\\n       Entitlement\\n      </a>\\n     </li>\\n    </ul>\\n   </li>\\n   <li>\\n    <a href=\"#\">\\n     TRANSACTION \\u25be\\n    </a>\\n    <ul>\\n     <li>\\n      <a class=\"\" href=\"/district_monthly_reports/\" target=\"_top\">\\n       Summary Report\\n      </a>\\n     </li>\\n     <li>\\n      <a class=\"\" href=\"/transactions/transactionView\" target=\"_top\">\\n       Datewise Report\\n      </a>\\n     </li>\\n    </ul>\\n   </li>\\n   <li>\\n    <a href=\"#\">\\n     DEALER \\u25be\\n    </a>\\n    <ul>\\n     <li>\\n      <a class=\"\" href=\"/district_reports/districtDealer\" target=\"_top\">\\n       Dealer Summary\\n      </a>\\n     </li>\\n     <li>\\n      <a class=\"\" href=\"/district_allocations/dealerBankSlip\" target=\"_top\">\\n       Dealer\\'s Bank Slip\\n      </a>\\n     </li>\\n     <li>\\n      <a class=\"\" href=\"/bank_payments/bankReport\" target=\"_top\">\\n       Bank Payment Report\\n      </a>\\n     </li>\\n     <li>\\n      <a class=\"\" href=\"/secc_cardholders/searchAllocationDealerWise\" target=\"_top\">\\n       Allocation Report\\n      </a>\\n     </li>\\n    </ul>\\n   </li>\\n   <li>\\n    <a href=\"#\">\\n     HHT \\u25be\\n    </a>\\n    <ul>\\n     <li>\\n      <a class=\"\" href=\"/dealer_user_logs/hhdLogin\" target=\"_top\">\\n       HHT Login Details\\n      </a>\\n     </li>\\n     <li>\\n      <a class=\"\" href=\"/hhd_masters/\" target=\"_top\">\\n       HHT List\\n      </a>\\n     </li>\\n    </ul>\\n   </li>\\n   <li>\\n    <a href=\"rentals.html\">\\n     POLICY \\u25be\\n    </a>\\n    <ul>\\n     <li>\\n      <a class=\"\" href=\"/policy_temps/searchPolicyFilter\" target=\"_top\">\\n       Policy Report\\n      </a>\\n     </li>\\n    </ul>\\n   </li>\\n   <li>\\n    <a href=\"#\">\\n     OFFICES \\u25be\\n    </a>\\n    <ul>\\n     <li>\\n      <a class=\"\" href=\"/dso_masters/\" target=\"_top\">\\n       DSO\\n      </a>\\n     </li>\\n     <li>\\n      <a class=\"\" href=\"/sdo_masters/\" target=\"_top\">\\n       SDO\\n      </a>\\n     </li>\\n     <li>\\n      <a class=\"\" href=\"/depot_masters/depotStock\" target=\"_top\">\\n       Depot\\n      </a>\\n     </li>\\n    </ul>\\n   </li>\\n   <li>\\n    <a href=\"http://jharkhandsamadhan.nic.in/\" target=\"_blank\">\\n     E-SAMADHAN\\n    </a>\\n   </li>\\n   <li>\\n    <a href=\"#\">\\n     RATION FORM \\u25be\\n    </a>\\n    <ul>\\n     <li>\\n      <a href=\"/download/rural.pdf\">\\n       Rural (Inclusion)\\n      </a>\\n     </li>\\n     <li>\\n      <a href=\"/download/urban.pdf\">\\n       Urban (Inclusion)\\n      </a>\\n     </li>\\n    </ul>\\n   </li>\\n   <li>\\n    <a href=\"http://pds.jharkhand.gov.in\" id=\"content\" target=\"_blank\">\\n     OFFICIAL LOGIN\\n    </a>\\n   </li>\\n  </ul>\\n </nav>\\n</body>\\n<script>\\n $(function()\\n{$(\\'#nav li:has(ul)\\').doubleTapToGo();});\\n</script>\\n<!-- /navbar -->\\n<div class=\"main\" style=\"margin-top:5%\">\\n <script language=\"javascript\" type=\"text/javascript\">\\n  function tablePrint()\\n{var display_setting=\"toolbar=no,location=no,directories=no,menubar=no,\";display_setting+=\"scrollbars=no,width=0, height=0, left=0, top=0\";var districtReport_innerhtml=document.getElementById(\"maintable\").innerHTML;var document_print=window.open(\"\",\"\",display_setting);document_print.document.open();document_print.document.write(\\'<html><head><title>Jharkhand Government  e-Ration Card</title>\\t<link rel=\"stylesheet\" type=\"text/css\" href=\"/css/report_print.css\" /></head>\\');document_print.document.write(\\'<body onLoad=\"self.print();self.close();\" >\\');document_print.document.write(\\'<br/>\\');document_print.document.write(\\'<table width=\"90%\"  align=\"center\"  class=\"zeroborder\" >\\');document_print.document.write(\\'<tr><td><center><img src =\"/img/jhar_govt.gif\"/> </center></td></tr>\\');document_print.document.write(\\' </table>\\');document_print.document.write(\\'<table width=\"90%\"  align=\"center\"  cellspacing =\"0\" cellpadding=\"0\" border=\"1\" >\\');document_print.document.write(districtReport_innerhtml);document_print.document.write(\\'</table>\\');document_print.document.write(\\'</body></html>\\');document_print.print();document_print.document.close();return false;}\\n </script>\\n <link href=\"/css/grid.css\" rel=\"stylesheet\" type=\"text/css\"/>\\n <!--<table cellpadding=\"1\" cellspacing=\"1\" border=\"0\"  width=\"100%\">\\n     <tr><td align=\"center\"><img src =\"../img/new_jhar_Govt_Logo_heading1.gif\" style=\"height:60px\" /></td></tr> \\n</table>-->\\n <br/>\\n <br/>\\n <table border=\"0\" cellpadding=\"0\" cellspacing=\"0\" style=\"margin:auto\" width=\"60%\">\\n  <tr>\\n   <td align=\"left\">\\n    <div class=\"submit\">\\n     <input onclick=\"tablePrint()\" src=\"/img/xprint.png.pagespeed.ic.9M9qyoblOo.png\" type=\"image\" value=\"test\"/>\\n    </div>\\n   </td>\\n  </tr>\\n </table>\\n <div align=\"center\" class=\"grid\">\\n  <table id=\"maintable\" width=\"60%\">\\n   <tr class=\"heading\">\\n    <th colspan=\"14\">\\n     Dealer HHT Login Detail Of District:\\xa0BOKARO, Block:\\xa0BERMO\\xa0 On Date:\\xa017-10-2016\\n    </th>\\n   </tr>\\n   <tr class=\"heading\">\\n    <th>\\n     Sl No.\\n    </th>\\n    <th>\\n     Dealer Name\\n    </th>\\n    <th>\\n     Dealer User Name\\n    </th>\\n    <th>\\n     HHT Unique Id\\n    </th>\\n    <th>\\n     HHT Login Time\\n    </th>\\n   </tr>\\n   <tr bgcolor=\"#bdcfe7\">\\n    <td>\\n     1\\n    </td>\\n    <td>\\n     <a href=\"/transactions/hhdLoginTransaction/NGYwN2UzMTYtNmU1MC00M2RjLTg0Y2MtMGVkODBhODY3OTFi/MQ==/MjAxNi0xMC0xNw==\">\\n      PIYUSH KUMAR DEY\\n     </a>\\n    </td>\\n    <td>\\n     PIYUSH KUMAR\\xa0DEY\\n    </td>\\n    <td>\\n    </td>\\n    <td>\\n     17-10-2016 03:58:29 PM\\n    </td>\\n   </tr>\\n   <tr bgcolor=\"#bdcfe7\">\\n    <td>\\n     2\\n    </td>\\n    <td>\\n     <a href=\"/transactions/hhdLoginTransaction/NGYwN2U0Y2YtZThjNC00OWUxLTg1ZGQtMGVkODBhODY3OTFi/MQ==/MjAxNi0xMC0xNw==\">\\n      SATENDRA PRASAD MODI\\n     </a>\\n    </td>\\n    <td>\\n     SATENDRA PRASAD\\xa0MODI\\n    </td>\\n    <td>\\n    </td>\\n    <td>\\n     17-10-2016 10:08:07 PM\\n    </td>\\n   </tr>\\n   <tr bgcolor=\"#bdcfe7\">\\n    <td>\\n     3\\n    </td>\\n    <td>\\n     <a href=\"/transactions/hhdLoginTransaction/NGYwN2U2NjUtMzU4OC00MDEyLTgzMGItMGVkODBhODY3OTFi/MQ==/MjAxNi0xMC0xNw==\">\\n      JAI PRAKASH SAW\\n     </a>\\n    </td>\\n    <td>\\n     JAI PRAKASH\\xa0SAW\\n    </td>\\n    <td>\\n    </td>\\n    <td>\\n     17-10-2016 08:38:20 AM\\n    </td>\\n   </tr>\\n   <tr bgcolor=\"#bdcfe7\">\\n    <td>\\n     4\\n    </td>\\n    <td>\\n     <a href=\"/transactions/hhdLoginTransaction/NGYwN2ViNDItZmNmOC00ZWE5LWEyZjgtMGVkODBhODY3OTFi/MQ==/MjAxNi0xMC0xNw==\">\\n      BERMO JARIDIH UPBHOKTA BHANDAR\\n     </a>\\n    </td>\\n    <td>\\n     NITESH\\xa0KUMAR\\n    </td>\\n    <td>\\n    </td>\\n    <td>\\n     17-10-2016 02:33:23 PM\\n    </td>\\n   </tr>\\n   <tr>\\n    <td>\\n    </td>\\n    <td>\\n    </td>\\n    <td>\\n     NITESH\\xa0KUMAR\\n    </td>\\n    <td>\\n    </td>\\n    <td>\\n     17-10-2016 02:36:07 PM\\n    </td>\\n   </tr>\\n   <tr>\\n    <td>\\n    </td>\\n    <td>\\n    </td>\\n    <td>\\n     NITESH\\xa0KUMAR\\n    </td>\\n    <td>\\n    </td>\\n    <td>\\n     17-10-2016 02:23:17 PM\\n    </td>\\n   </tr>\\n   <tr>\\n    <td>\\n    </td>\\n    <td>\\n    </td>\\n    <td>\\n     NITESH\\xa0KUMAR\\n    </td>\\n    <td>\\n    </td>\\n    <td>\\n     17-10-2016 02:28:04 PM\\n    </td>\\n   </tr>\\n   <tr bgcolor=\"#bdcfe7\">\\n    <td>\\n     5\\n    </td>\\n    <td>\\n     <a href=\"/transactions/hhdLoginTransaction/NGYwN2YwOTQtN2EwNC00YTQwLTk2YjEtMGVkODBhODY3OTFi/MQ==/MjAxNi0xMC0xNw==\">\\n      YAMUNA YADAV\\n     </a>\\n    </td>\\n    <td>\\n     YAMUNA\\xa0YADAV\\n    </td>\\n    <td>\\n    </td>\\n    <td>\\n     17-10-2016 07:34:19 AM\\n    </td>\\n   </tr>\\n   <tr>\\n    <td>\\n    </td>\\n    <td>\\n    </td>\\n    <td>\\n     YAMUNA\\xa0YADAV\\n    </td>\\n    <td>\\n    </td>\\n    <td>\\n     17-10-2016 03:27:30 PM\\n    </td>\\n   </tr>\\n   <tr>\\n    <td>\\n    </td>\\n    <td>\\n    </td>\\n    <td>\\n     YAMUNA\\xa0YADAV\\n    </td>\\n    <td>\\n    </td>\\n    <td>\\n     17-10-2016 07:39:55 AM\\n    </td>\\n   </tr>\\n   <tr bgcolor=\"#bdcfe7\">\\n    <td>\\n     6\\n    </td>\\n    <td>\\n     <a href=\"/transactions/hhdLoginTransaction/NGYwN2Y0YjYtNjhlYy00ZjEwLTk2ZWQtMGVkODBhODY3OTFi/MQ==/MjAxNi0xMC0xNw==\">\\n      ABHIMANYU KUMAR SINHA\\n     </a>\\n    </td>\\n    <td>\\n     ABHIMNYU KUMAR\\xa0SINHA\\n    </td>\\n    <td>\\n    </td>\\n    <td>\\n     17-10-2016 01:44:55 PM\\n    </td>\\n   </tr>\\n   <tr>\\n    <td>\\n    </td>\\n    <td>\\n    </td>\\n    <td>\\n     ABHIMNYU KUMAR\\xa0SINHA\\n    </td>\\n    <td>\\n    </td>\\n    <td>\\n     17-10-2016 01:50:34 PM\\n    </td>\\n   </tr>\\n   <tr bgcolor=\"#bdcfe7\">\\n    <td>\\n     7\\n    </td>\\n    <td>\\n     <a href=\"/transactions/hhdLoginTransaction/NGYwN2Y3YmQtNGNhMC00MWIxLWEwMWUtMGVkODBhODY3OTFi/MQ==/MjAxNi0xMC0xNw==\">\\n      MURALIDHAR NISHAD\\n     </a>\\n    </td>\\n    <td>\\n     MURALIDHAR\\xa0NISHAD\\n    </td>\\n    <td>\\n    </td>\\n    <td>\\n     17-10-2016 06:39:36 AM\\n    </td>\\n   </tr>\\n   <tr bgcolor=\"#bdcfe7\">\\n    <td>\\n     8\\n    </td>\\n    <td>\\n     <a href=\"/transactions/hhdLoginTransaction/NGYwN2ZhNTAtZWMzMC00MDI0LTk5YmUtMGVkODBhODY3OTFi/MQ==/MjAxNi0xMC0xNw==\">\\n      RINTU SINGH\\n     </a>\\n    </td>\\n    <td>\\n     RINTU KUMAR\\xa0SINGH\\n    </td>\\n    <td>\\n    </td>\\n    <td>\\n     17-10-2016 09:15:44 AM\\n    </td>\\n   </tr>\\n   <tr bgcolor=\"#bdcfe7\">\\n    <td>\\n     9\\n    </td>\\n    <td>\\n     <a href=\"/transactions/hhdLoginTransaction/NGYwN2ZiOTgtZjg2MC00Mzc5LWFlY2MtMGVkODBhODY3OTFi/MQ==/MjAxNi0xMC0xNw==\">\\n      BHARAT SINGH\\n     </a>\\n    </td>\\n    <td>\\n     AJAY\\xa0SINGH\\n    </td>\\n    <td>\\n    </td>\\n    <td>\\n     17-10-2016 02:37:28 PM\\n    </td>\\n   </tr>\\n   <tr bgcolor=\"#bdcfe7\">\\n    <td>\\n     10\\n    </td>\\n    <td>\\n     <a href=\"/transactions/hhdLoginTransaction/NGYwYWJlNzQtMzA1MC00OWNiLWI5NTgtMTNiYzBhODY3OTFi/MQ==/MjAxNi0xMC0xNw==\">\\n      KAMESHWAR PANDEY\\n     </a>\\n    </td>\\n    <td>\\n     AJAY\\xa0PANDEY\\n    </td>\\n    <td>\\n    </td>\\n    <td>\\n     17-10-2016 12:52:49 PM\\n    </td>\\n   </tr>\\n   <tr bgcolor=\"#bdcfe7\">\\n    <td>\\n     11\\n    </td>\\n    <td>\\n     <a href=\"/transactions/hhdLoginTransaction/NGYwYWJmNDktODdkYy00NmM1LTk2Y2QtMTNiYzBhODY3OTFi/MQ==/MjAxNi0xMC0xNw==\">\\n      PARWAT SINGH\\n     </a>\\n    </td>\\n    <td>\\n     PARBAT\\xa0SINGH\\n    </td>\\n    <td>\\n    </td>\\n    <td>\\n     17-10-2016 04:31:51 PM\\n    </td>\\n   </tr>\\n   <tr>\\n    <td>\\n    </td>\\n    <td>\\n    </td>\\n    <td>\\n     PARBAT\\xa0SINGH\\n    </td>\\n    <td>\\n    </td>\\n    <td>\\n     17-10-2016 04:46:35 PM\\n    </td>\\n   </tr>\\n   <tr>\\n    <td>\\n    </td>\\n    <td>\\n    </td>\\n    <td>\\n     PARBAT\\xa0SINGH\\n    </td>\\n    <td>\\n    </td>\\n    <td>\\n     17-10-2016 04:47:17 PM\\n    </td>\\n   </tr>\\n   <tr bgcolor=\"#bdcfe7\">\\n    <td>\\n     12\\n    </td>\\n    <td>\\n     <a href=\"/transactions/hhdLoginTransaction/NGYwYWMwYjMtY2ViYy00MDFhLTljYTQtMTNiYzBhODY3OTFi/MQ==/MjAxNi0xMC0xNw==\">\\n      BHARAT PRASAD SINHA\\n     </a>\\n    </td>\\n    <td>\\n     BHARAT PRASAD\\xa0SINHA\\n    </td>\\n    <td>\\n    </td>\\n    <td>\\n     17-10-2016 02:18:13 PM\\n    </td>\\n   </tr>\\n   <tr bgcolor=\"#bdcfe7\">\\n    <td>\\n     13\\n    </td>\\n    <td>\\n     <a href=\"/transactions/hhdLoginTransaction/NGYwYWMxOWMtOGViOC00NTE2LTkwYjktMTNiYzBhODY3OTFi/MQ==/MjAxNi0xMC0xNw==\">\\n      MANOJ KUMAR\\n     </a>\\n    </td>\\n    <td>\\n     MANOJ\\xa0KUMAR\\n    </td>\\n    <td>\\n    </td>\\n    <td>\\n     17-10-2016 06:25:33 PM\\n    </td>\\n   </tr>\\n   <tr>\\n    <td>\\n    </td>\\n    <td>\\n    </td>\\n    <td>\\n     MANOJ\\xa0KUMAR\\n    </td>\\n    <td>\\n    </td>\\n    <td>\\n     17-10-2016 02:11:00 PM\\n    </td>\\n   </tr>\\n   <tr bgcolor=\"#bdcfe7\">\\n    <td>\\n     14\\n    </td>\\n    <td>\\n     <a href=\"/transactions/hhdLoginTransaction/NTAwNTE1NmYtNjgzMC00Yjk0LTllM2EtMGZhMDBhODY3OTA2/MQ==/MjAxNi0xMC0xNw==\">\\n      LAXMAN THAKUR\\n     </a>\\n    </td>\\n    <td>\\n     SURESH\\xa0KUMAR\\n    </td>\\n    <td>\\n    </td>\\n    <td>\\n     17-10-2016 07:54:41 AM\\n    </td>\\n   </tr>\\n   <tr>\\n    <td>\\n    </td>\\n    <td>\\n    </td>\\n    <td>\\n     SURESH\\xa0KUMAR\\n    </td>\\n    <td>\\n    </td>\\n    <td>\\n     17-10-2016 08:47:39 PM\\n    </td>\\n   </tr>\\n  </table>\\n </div>\\n</div>\\n<!-- /main -->\\n<div>\\n</div>\\n<!-- /extra -->\\n<div>\\n</div>\\n<!-- /span12 -->\\n<div>\\n <div class=\"extra\">\\n  <div class=\"extra-inner\" style=\"background-color:#0a6a5f;color:#a0acbf; border-top-color:#dee65f; border-top-style:solid; border-top-width:1px;\">\\n   <div class=\"container\">\\n    <div align=\"center\" class=\"row\">\\n     <div style=\"width:100%; margin-top:1%;color:#dee65f; align:center\">\\n      <h4>\\n       <b>\\n        Page last updated on :Sunday, December 4, 2016 23:00:45\\n       </b>\\n      </h4>\\n     </div>\\n     <div style=\"width:100%; align:center; color:#dee65f;\">\\n      <center>\\n       <h4>\\n        <b>\\n         Design and Developed by\\n        </b>\\n        National Informatics Centre Jharkhand\\n        <br/>\\n        <b>\\n         Best viewed in\\n        </b>\\n        Firefox 4.0 or higher  on 1280x1024 pixels screen resolution\\n        <br/>\\n        Site Owned by Department of Food, Public Distribution &amp; Consumer Affairs, Government of Jharkhand.\\n        <center>\\n         <h4>\\n          HELPLINE NUMBER :- 18003456598\\n         </h4>\\n        </center>\\n        <!--<font color=\\'red\\' face=\\'Arial black\\'><b>Visitors Count</b><br />\\n</font> \\n-->\\n       </h4>\\n      </center>\\n     </div>\\n     <!-- /span3 -->\\n    </div>\\n    <!-- /row -->\\n   </div>\\n   <!-- /container -->\\n  </div>\\n </div>\\n</div>\\n'"
      ]
     },
     "execution_count": 38,
     "metadata": {},
     "output_type": "execute_result"
    }
   ],
   "source": [
    "soup = BeautifulSoup(data, \"html.parser\")\n",
    "\n",
    "#soup.prettify()[1500:2000]\n"
   ]
  },
  {
   "cell_type": "code",
   "execution_count": 39,
   "metadata": {
    "collapsed": false
   },
   "outputs": [
    {
     "name": "stdout",
     "output_type": "stream",
     "text": [
      "<table id=\"maintable\" width=\"60%\">\n",
      "<tr class=\"heading\"><th colspan=\"14\">Dealer HHT Login Detail Of District: BOKARO, Block: BERMO  On Date: 17-10-2016 </th></tr>\n",
      "<tr class=\"heading\">\n",
      "<th>Sl No.</th>\n",
      "<th>Dealer Name</th>\n",
      "<th>Dealer User Name</th>\n",
      "<th>HHT Unique Id</th>\n",
      "<th>HHT Login Time</th>\n",
      "</tr>\n",
      "<tr bgcolor=\"#bdcfe7\">\n",
      "<td>1</td>\n",
      "<td><a href=\"/transactions/hhdLoginTransaction/NGYwN2UzMTYtNmU1MC00M2RjLTg0Y2MtMGVkODBhODY3OTFi/MQ==/MjAxNi0xMC0xNw==\">PIYUSH KUMAR DEY</a></td>\n",
      "<td>PIYUSH KUMAR DEY</td>\n",
      "<td></td>\n",
      "<td>17-10-2016 03:58:29 PM</td>\n",
      "</tr>\n",
      "<tr bgcolor=\"#bdcfe7\">\n",
      "<td>2</td>\n",
      "<td><a href=\"/transactions/hhdLoginTransaction/NGYwN2U0Y2YtZThjNC00OWUxLTg1ZGQtMGVkODBhODY3OTFi/MQ==/MjAxNi0xMC0xNw==\">SATENDRA PRASAD MODI</a></td>\n",
      "<td>SATENDRA PRASAD MODI</td>\n",
      "<td></td>\n",
      "<td>17-10-2016 10:08:07 PM</td>\n",
      "</tr>\n",
      "<tr bgcolor=\"#bdcfe7\">\n",
      "<td>3</td>\n",
      "<td><a href=\"/transactions/hhdLoginTransaction/NGYwN2U2NjUtMzU4OC00MDEyLTgzMGItMGVkODBhODY3OTFi/MQ==/MjAxNi0xMC0xNw==\">JAI PRAKASH SAW</a></td>\n",
      "<td>JAI PRAKASH SAW</td>\n",
      "<td></td>\n",
      "<td>17-10-2016 08:38:20 AM</td>\n",
      "</tr>\n",
      "<tr bgcolor=\"#bdcfe7\">\n",
      "<td>4</td>\n",
      "<td><a href=\"/transactions/hhdLoginTransaction/NGYwN2ViNDItZmNmOC00ZWE5LWEyZjgtMGVkODBhODY3OTFi/MQ==/MjAxNi0xMC0xNw==\">BERMO JARIDIH UPBHOKTA BHANDAR</a></td>\n",
      "<td>NITESH KUMAR</td>\n",
      "<td></td>\n",
      "<td>17-10-2016 02:33:23 PM</td>\n",
      "</tr>\n",
      "<tr>\n",
      "<td></td>\n",
      "<td></td>\n",
      "<td>NITESH KUMAR</td>\n",
      "<td></td>\n",
      "<td>17-10-2016 02:36:07 PM</td>\n",
      "</tr>\n",
      "<tr>\n",
      "<td></td>\n",
      "<td></td>\n",
      "<td>NITESH KUMAR</td>\n",
      "<td></td>\n",
      "<td>17-10-2016 02:23:17 PM</td>\n",
      "</tr>\n",
      "<tr>\n",
      "<td></td>\n",
      "<td></td>\n",
      "<td>NITESH KUMAR</td>\n",
      "<td></td>\n",
      "<td>17-10-2016 02:28:04 PM</td>\n",
      "</tr>\n",
      "<tr bgcolor=\"#bdcfe7\">\n",
      "<td>5</td>\n",
      "<td><a href=\"/transactions/hhdLoginTransaction/NGYwN2YwOTQtN2EwNC00YTQwLTk2YjEtMGVkODBhODY3OTFi/MQ==/MjAxNi0xMC0xNw==\">YAMUNA YADAV</a></td>\n",
      "<td>YAMUNA YADAV</td>\n",
      "<td></td>\n",
      "<td>17-10-2016 07:34:19 AM</td>\n",
      "</tr>\n",
      "<tr>\n",
      "<td></td>\n",
      "<td></td>\n",
      "<td>YAMUNA YADAV</td>\n",
      "<td></td>\n",
      "<td>17-10-2016 03:27:30 PM</td>\n",
      "</tr>\n",
      "<tr>\n",
      "<td></td>\n",
      "<td></td>\n",
      "<td>YAMUNA YADAV</td>\n",
      "<td></td>\n",
      "<td>17-10-2016 07:39:55 AM</td>\n",
      "</tr>\n",
      "<tr bgcolor=\"#bdcfe7\">\n",
      "<td>6</td>\n",
      "<td><a href=\"/transactions/hhdLoginTransaction/NGYwN2Y0YjYtNjhlYy00ZjEwLTk2ZWQtMGVkODBhODY3OTFi/MQ==/MjAxNi0xMC0xNw==\">ABHIMANYU KUMAR SINHA</a></td>\n",
      "<td>ABHIMNYU KUMAR SINHA</td>\n",
      "<td></td>\n",
      "<td>17-10-2016 01:44:55 PM</td>\n",
      "</tr>\n",
      "<tr>\n",
      "<td></td>\n",
      "<td></td>\n",
      "<td>ABHIMNYU KUMAR SINHA</td>\n",
      "<td></td>\n",
      "<td>17-10-2016 01:50:34 PM</td>\n",
      "</tr>\n",
      "<tr bgcolor=\"#bdcfe7\">\n",
      "<td>7</td>\n",
      "<td><a href=\"/transactions/hhdLoginTransaction/NGYwN2Y3YmQtNGNhMC00MWIxLWEwMWUtMGVkODBhODY3OTFi/MQ==/MjAxNi0xMC0xNw==\"> MURALIDHAR NISHAD</a></td>\n",
      "<td>MURALIDHAR NISHAD</td>\n",
      "<td></td>\n",
      "<td>17-10-2016 06:39:36 AM</td>\n",
      "</tr>\n",
      "<tr bgcolor=\"#bdcfe7\">\n",
      "<td>8</td>\n",
      "<td><a href=\"/transactions/hhdLoginTransaction/NGYwN2ZhNTAtZWMzMC00MDI0LTk5YmUtMGVkODBhODY3OTFi/MQ==/MjAxNi0xMC0xNw==\">RINTU SINGH</a></td>\n",
      "<td>RINTU KUMAR SINGH</td>\n",
      "<td></td>\n",
      "<td>17-10-2016 09:15:44 AM</td>\n",
      "</tr>\n",
      "<tr bgcolor=\"#bdcfe7\">\n",
      "<td>9</td>\n",
      "<td><a href=\"/transactions/hhdLoginTransaction/NGYwN2ZiOTgtZjg2MC00Mzc5LWFlY2MtMGVkODBhODY3OTFi/MQ==/MjAxNi0xMC0xNw==\">BHARAT SINGH</a></td>\n",
      "<td>AJAY SINGH</td>\n",
      "<td></td>\n",
      "<td>17-10-2016 02:37:28 PM</td>\n",
      "</tr>\n",
      "<tr bgcolor=\"#bdcfe7\">\n",
      "<td>10</td>\n",
      "<td><a href=\"/transactions/hhdLoginTransaction/NGYwYWJlNzQtMzA1MC00OWNiLWI5NTgtMTNiYzBhODY3OTFi/MQ==/MjAxNi0xMC0xNw==\">KAMESHWAR PANDEY</a></td>\n",
      "<td>AJAY PANDEY</td>\n",
      "<td></td>\n",
      "<td>17-10-2016 12:52:49 PM</td>\n",
      "</tr>\n",
      "<tr bgcolor=\"#bdcfe7\">\n",
      "<td>11</td>\n",
      "<td><a href=\"/transactions/hhdLoginTransaction/NGYwYWJmNDktODdkYy00NmM1LTk2Y2QtMTNiYzBhODY3OTFi/MQ==/MjAxNi0xMC0xNw==\">PARWAT SINGH</a></td>\n",
      "<td>PARBAT SINGH</td>\n",
      "<td></td>\n",
      "<td>17-10-2016 04:31:51 PM</td>\n",
      "</tr>\n",
      "<tr>\n",
      "<td></td>\n",
      "<td></td>\n",
      "<td>PARBAT SINGH</td>\n",
      "<td></td>\n",
      "<td>17-10-2016 04:46:35 PM</td>\n",
      "</tr>\n",
      "<tr>\n",
      "<td></td>\n",
      "<td></td>\n",
      "<td>PARBAT SINGH</td>\n",
      "<td></td>\n",
      "<td>17-10-2016 04:47:17 PM</td>\n",
      "</tr>\n",
      "<tr bgcolor=\"#bdcfe7\">\n",
      "<td>12</td>\n",
      "<td><a href=\"/transactions/hhdLoginTransaction/NGYwYWMwYjMtY2ViYy00MDFhLTljYTQtMTNiYzBhODY3OTFi/MQ==/MjAxNi0xMC0xNw==\">BHARAT PRASAD SINHA</a></td>\n",
      "<td>BHARAT PRASAD SINHA</td>\n",
      "<td></td>\n",
      "<td>17-10-2016 02:18:13 PM</td>\n",
      "</tr>\n",
      "<tr bgcolor=\"#bdcfe7\">\n",
      "<td>13</td>\n",
      "<td><a href=\"/transactions/hhdLoginTransaction/NGYwYWMxOWMtOGViOC00NTE2LTkwYjktMTNiYzBhODY3OTFi/MQ==/MjAxNi0xMC0xNw==\">MANOJ KUMAR</a></td>\n",
      "<td>MANOJ KUMAR</td>\n",
      "<td></td>\n",
      "<td>17-10-2016 06:25:33 PM</td>\n",
      "</tr>\n",
      "<tr>\n",
      "<td></td>\n",
      "<td></td>\n",
      "<td>MANOJ KUMAR</td>\n",
      "<td></td>\n",
      "<td>17-10-2016 02:11:00 PM</td>\n",
      "</tr>\n",
      "<tr bgcolor=\"#bdcfe7\">\n",
      "<td>14</td>\n",
      "<td><a href=\"/transactions/hhdLoginTransaction/NTAwNTE1NmYtNjgzMC00Yjk0LTllM2EtMGZhMDBhODY3OTA2/MQ==/MjAxNi0xMC0xNw==\">LAXMAN THAKUR</a></td>\n",
      "<td>SURESH KUMAR</td>\n",
      "<td></td>\n",
      "<td>17-10-2016 07:54:41 AM</td>\n",
      "</tr>\n",
      "<tr>\n",
      "<td></td>\n",
      "<td></td>\n",
      "<td>SURESH KUMAR</td>\n",
      "<td></td>\n",
      "<td>17-10-2016 08:47:39 PM</td>\n",
      "</tr>\n",
      "</table>\n"
     ]
    }
   ],
   "source": [
    "main_table = soup.find('table', id='maintable')\n",
    "#print(main_table)"
   ]
  },
  {
   "cell_type": "code",
   "execution_count": 40,
   "metadata": {
    "collapsed": false,
    "scrolled": true
   },
   "outputs": [
    {
     "data": {
      "text/plain": [
       "[<a href=\"/transactions/hhdLoginTransaction/NGYwN2UzMTYtNmU1MC00M2RjLTg0Y2MtMGVkODBhODY3OTFi/MQ==/MjAxNi0xMC0xNw==\">PIYUSH KUMAR DEY</a>,\n",
       " <a href=\"/transactions/hhdLoginTransaction/NGYwN2U0Y2YtZThjNC00OWUxLTg1ZGQtMGVkODBhODY3OTFi/MQ==/MjAxNi0xMC0xNw==\">SATENDRA PRASAD MODI</a>,\n",
       " <a href=\"/transactions/hhdLoginTransaction/NGYwN2U2NjUtMzU4OC00MDEyLTgzMGItMGVkODBhODY3OTFi/MQ==/MjAxNi0xMC0xNw==\">JAI PRAKASH SAW</a>,\n",
       " <a href=\"/transactions/hhdLoginTransaction/NGYwN2ViNDItZmNmOC00ZWE5LWEyZjgtMGVkODBhODY3OTFi/MQ==/MjAxNi0xMC0xNw==\">BERMO JARIDIH UPBHOKTA BHANDAR</a>,\n",
       " <a href=\"/transactions/hhdLoginTransaction/NGYwN2YwOTQtN2EwNC00YTQwLTk2YjEtMGVkODBhODY3OTFi/MQ==/MjAxNi0xMC0xNw==\">YAMUNA YADAV</a>,\n",
       " <a href=\"/transactions/hhdLoginTransaction/NGYwN2Y0YjYtNjhlYy00ZjEwLTk2ZWQtMGVkODBhODY3OTFi/MQ==/MjAxNi0xMC0xNw==\">ABHIMANYU KUMAR SINHA</a>,\n",
       " <a href=\"/transactions/hhdLoginTransaction/NGYwN2Y3YmQtNGNhMC00MWIxLWEwMWUtMGVkODBhODY3OTFi/MQ==/MjAxNi0xMC0xNw==\"> MURALIDHAR NISHAD</a>,\n",
       " <a href=\"/transactions/hhdLoginTransaction/NGYwN2ZhNTAtZWMzMC00MDI0LTk5YmUtMGVkODBhODY3OTFi/MQ==/MjAxNi0xMC0xNw==\">RINTU SINGH</a>,\n",
       " <a href=\"/transactions/hhdLoginTransaction/NGYwN2ZiOTgtZjg2MC00Mzc5LWFlY2MtMGVkODBhODY3OTFi/MQ==/MjAxNi0xMC0xNw==\">BHARAT SINGH</a>,\n",
       " <a href=\"/transactions/hhdLoginTransaction/NGYwYWJlNzQtMzA1MC00OWNiLWI5NTgtMTNiYzBhODY3OTFi/MQ==/MjAxNi0xMC0xNw==\">KAMESHWAR PANDEY</a>,\n",
       " <a href=\"/transactions/hhdLoginTransaction/NGYwYWJmNDktODdkYy00NmM1LTk2Y2QtMTNiYzBhODY3OTFi/MQ==/MjAxNi0xMC0xNw==\">PARWAT SINGH</a>,\n",
       " <a href=\"/transactions/hhdLoginTransaction/NGYwYWMwYjMtY2ViYy00MDFhLTljYTQtMTNiYzBhODY3OTFi/MQ==/MjAxNi0xMC0xNw==\">BHARAT PRASAD SINHA</a>,\n",
       " <a href=\"/transactions/hhdLoginTransaction/NGYwYWMxOWMtOGViOC00NTE2LTkwYjktMTNiYzBhODY3OTFi/MQ==/MjAxNi0xMC0xNw==\">MANOJ KUMAR</a>,\n",
       " <a href=\"/transactions/hhdLoginTransaction/NTAwNTE1NmYtNjgzMC00Yjk0LTllM2EtMGZhMDBhODY3OTA2/MQ==/MjAxNi0xMC0xNw==\">LAXMAN THAKUR</a>]"
      ]
     },
     "execution_count": 40,
     "metadata": {},
     "output_type": "execute_result"
    }
   ],
   "source": [
    "main_table.find_all('a')\n"
   ]
  },
  {
   "cell_type": "code",
   "execution_count": 45,
   "metadata": {
    "collapsed": false
   },
   "outputs": [
    {
     "name": "stdout",
     "output_type": "stream",
     "text": [
      "<a href=\"/transactions/hhdLoginTransaction/NGYwN2U0Y2YtZThjNC00OWUxLTg1ZGQtMGVkODBhODY3OTFi/MQ==/MjAxNi0xMC0xNw==\">SATENDRA PRASAD MODI</a>\n"
     ]
    }
   ],
   "source": [
    "list = main_table.find_all(href=True)\n",
    "\n",
    "print(list[1])"
   ]
  },
  {
   "cell_type": "code",
   "execution_count": 47,
   "metadata": {
    "collapsed": false
   },
   "outputs": [
    {
     "ename": "TypeError",
     "evalue": "get_block_ids() takes exactly 1 argument (2 given)",
     "output_type": "error",
     "traceback": [
      "\u001b[0;31m---------------------------------------------------------------------------\u001b[0m",
      "\u001b[0;31mTypeError\u001b[0m                                 Traceback (most recent call last)",
      "\u001b[0;32m<ipython-input-47-93958c22fb0c>\u001b[0m in \u001b[0;36m<module>\u001b[0;34m()\u001b[0m\n\u001b[1;32m      1\u001b[0m \u001b[0;32mfor\u001b[0m \u001b[0md_id\u001b[0m\u001b[0;34m,\u001b[0m \u001b[0mname\u001b[0m \u001b[0;32min\u001b[0m \u001b[0mget_dist_ids\u001b[0m\u001b[0;34m(\u001b[0m\u001b[0;34m)\u001b[0m\u001b[0;34m:\u001b[0m\u001b[0;34m\u001b[0m\u001b[0m\n\u001b[0;32m----> 2\u001b[0;31m     \u001b[0mbids\u001b[0m \u001b[0;34m=\u001b[0m \u001b[0mget_block_ids\u001b[0m\u001b[0;34m(\u001b[0m\u001b[0md_id\u001b[0m\u001b[0;34m,\u001b[0m \u001b[0mname\u001b[0m\u001b[0;34m)\u001b[0m\u001b[0;34m\u001b[0m\u001b[0m\n\u001b[0m\u001b[1;32m      3\u001b[0m     \u001b[0mdeal_ids\u001b[0m \u001b[0;34m=\u001b[0m \u001b[0mget_dealer_ids\u001b[0m\u001b[0;34m(\u001b[0m\u001b[0mbids\u001b[0m\u001b[0;34m)\u001b[0m\u001b[0;34m\u001b[0m\u001b[0m\n\u001b[1;32m      4\u001b[0m     \u001b[0;32mprint\u001b[0m\u001b[0;34m(\u001b[0m\u001b[0mbids\u001b[0m\u001b[0;34m)\u001b[0m\u001b[0;34m\u001b[0m\u001b[0m\n",
      "\u001b[0;31mTypeError\u001b[0m: get_block_ids() takes exactly 1 argument (2 given)"
     ]
    }
   ],
   "source": [
    "for d_id, name in get_dist_ids():\n",
    "    bids = get_block_ids(d_id, name)\n",
    "    #deal_ids = get_dealer_ids(bids)\n",
    "    print(bids)"
   ]
  },
  {
   "cell_type": "code",
   "execution_count": 44,
   "metadata": {
    "collapsed": false
   },
   "outputs": [
    {
     "name": "stdout",
     "output_type": "stream",
     "text": [
      "[(u'355', u'BOKARO'), (u'347', u'CHATRA'), (u'350', u'DEOGHAR'), (u'354', u'DHANBAD'), (u'362', u'DUMKA'), (u'357', u'EAST SINGHBUM'), (u'346', u'GARHWA'), (u'349', u'GIRIDIH'), (u'351', u'GODDA'), (u'366', u'GUMLA'), (u'360', u'HAZARIBAGH'), (u'363', u'JAMTARA'), (u'348', u'KODERMA'), (u'359', u'LATEHAR'), (u'356', u'LOHARDAGA'), (u'353', u'PAKUR'), (u'358', u'PALAMU'), (u'364', u'RANCHI'), (u'352', u'SAHEBGANJ'), (u'369', u'SARAIKELA KHARSAWAN'), (u'367', u'SIMDEGA'), (u'368', u'WEST SINGHBHUM'), (u'365', u'KHUNTI'), (u'361', u'RAMGARH')]\n"
     ]
    }
   ],
   "source": [
    "print(get_dist_ids())"
   ]
  },
  {
   "cell_type": "code",
   "execution_count": 46,
   "metadata": {
    "collapsed": false
   },
   "outputs": [
    {
     "name": "stdout",
     "output_type": "stream",
     "text": [
      "[(u'02590', u'BERMO'), (u'02596', u'CHANDANKIYARI'), (u'02589', u'CHANDRAPURA'), (u'02595', u'CHAS'), (u'02591', u'GOMIA'), (u'02594', u'JARIDIH'), (u'02593', u'KASMAR'), (u'02588', u'NAWADIH'), (u'02592', u'PETERWAR'), (u'801778', u'CHAS NAGAR PALIKA(MN)'), (u'801777', u'Phusro (NA)'), (u'362723', u'Bokaro Steel City(TA)')]\n"
     ]
    }
   ],
   "source": [
    "print(get_block_ids(355))"
   ]
  },
  {
   "cell_type": "code",
   "execution_count": null,
   "metadata": {
    "collapsed": false
   },
   "outputs": [],
   "source": [
    "numdays = 7\n",
    "base = datetime.date.today()\n",
    "date_list = [(base - datetime.timedelta(days=x)).strftime(\"%d-%m-%Y\") for x in range(0, numdays)]"
   ]
  },
  {
   "cell_type": "code",
   "execution_count": null,
   "metadata": {
    "collapsed": false
   },
   "outputs": [],
   "source": [
    "date_list"
   ]
  },
  {
   "cell_type": "code",
   "execution_count": null,
   "metadata": {
    "collapsed": true
   },
   "outputs": [],
   "source": []
  }
 ],
 "metadata": {
  "anaconda-cloud": {},
  "kernelspec": {
   "display_name": "Python [conda root]",
   "language": "python",
   "name": "conda-root-py"
  },
  "language_info": {
   "codemirror_mode": {
    "name": "ipython",
    "version": 2
   },
   "file_extension": ".py",
   "mimetype": "text/x-python",
   "name": "python",
   "nbconvert_exporter": "python",
   "pygments_lexer": "ipython2",
   "version": "2.7.12"
  }
 },
 "nbformat": 4,
 "nbformat_minor": 0
}
